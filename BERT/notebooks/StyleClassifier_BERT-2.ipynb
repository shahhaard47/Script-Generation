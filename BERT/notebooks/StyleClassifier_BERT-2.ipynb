{
  "nbformat": 4,
  "nbformat_minor": 0,
  "metadata": {
    "accelerator": "GPU",
    "colab": {
      "name": "StyleClassifier_BERT.ipynb",
      "provenance": [],
      "collapsed_sections": [],
      "toc_visible": true
    },
    "kernelspec": {
      "display_name": "Python 3",
      "language": "python",
      "name": "python3"
    },
    "language_info": {
      "codemirror_mode": {
        "name": "ipython",
        "version": 3
      },
      "file_extension": ".py",
      "mimetype": "text/x-python",
      "name": "python",
      "nbconvert_exporter": "python",
      "pygments_lexer": "ipython3",
      "version": "3.6.10"
    }
  },
  "cells": [
    {
      "cell_type": "markdown",
      "metadata": {
        "colab_type": "text",
        "id": "dTPDnq6cRiF5"
      },
      "source": [
        "### Notebook setup"
      ]
    },
    {
      "cell_type": "code",
      "metadata": {
        "id": "ZC4U83hV-xKX",
        "colab_type": "code",
        "colab": {}
      },
      "source": [
        "!mv fast-bert_old/ fast-bert"
      ],
      "execution_count": 0,
      "outputs": []
    },
    {
      "cell_type": "code",
      "metadata": {
        "id": "VadmhYoVmsAZ",
        "colab_type": "code",
        "outputId": "4505516b-f63f-404a-8cea-d09bb6d9caa5",
        "colab": {
          "base_uri": "https://localhost:8080/",
          "height": 255
        }
      },
      "source": [
        "# installing fast-bert from source\n",
        "!git clone https://github.com/kaushaltrivedi/fast-bert.git/\n",
        "%cd fast-bert\n",
        "# !git config --global user.email \"haard@gatech.edu\"\n",
        "# !git stash\n",
        "!git reset --hard\n",
        "!git checkout 10ee7a0d958d6c20c7af482a2d9a20db33a2b646\n",
        "%cd .."
      ],
      "execution_count": 0,
      "outputs": [
        {
          "output_type": "stream",
          "text": [
            "Cloning into 'fast-bert'...\n",
            "remote: Enumerating objects: 128, done.\u001b[K\n",
            "remote: Counting objects: 100% (128/128), done.\u001b[K\n",
            "remote: Compressing objects: 100% (105/105), done.\u001b[K\n",
            "remote: Total 821 (delta 74), reused 52 (delta 22), pack-reused 693\u001b[K\n",
            "Receiving objects: 100% (821/821), 1.87 MiB | 3.52 MiB/s, done.\n",
            "Resolving deltas: 100% (511/511), done.\n",
            "/content/drive/My Drive/GaTech/Spring20/NL-CS7650/Controlled-textgen-model/fast-bert\n",
            "HEAD is now at 77f09ad Merge pull request #204 from aaronbriel/abstract-hypers\n",
            "error: Your local changes to the following files would be overwritten by checkout:\n",
            "\tcontainer/bert/train\n",
            "Please commit your changes or stash them before you switch branches.\n",
            "Aborting\n",
            "/content/drive/My Drive/GaTech/Spring20/NL-CS7650/Controlled-textgen-model\n"
          ],
          "name": "stdout"
        }
      ]
    },
    {
      "cell_type": "code",
      "metadata": {
        "id": "0RPOc4QQAgi6",
        "colab_type": "code",
        "outputId": "5835f8b4-53d0-48e9-9c91-a8aed43e4bab",
        "colab": {
          "base_uri": "https://localhost:8080/",
          "height": 85
        }
      },
      "source": [
        "# %cd fast-bert/\n",
        "!git checkout 10ee7a0d958d6c20c7af482a2d9a20db33a2b646"
      ],
      "execution_count": 0,
      "outputs": [
        {
          "output_type": "stream",
          "text": [
            "error: Your local changes to the following files would be overwritten by checkout:\n",
            "\tcontainer/bert/train\n",
            "Please commit your changes or stash them before you switch branches.\n",
            "Aborting\n"
          ],
          "name": "stdout"
        }
      ]
    },
    {
      "cell_type": "code",
      "metadata": {
        "id": "IbA3GOJ_nmA1",
        "colab_type": "code",
        "colab": {}
      },
      "source": [
        "!pip uninstall fast_bert\n",
        "!pip list"
      ],
      "execution_count": 0,
      "outputs": []
    },
    {
      "cell_type": "code",
      "metadata": {
        "colab_type": "code",
        "id": "uc698H7BRG7J",
        "outputId": "e17b2a53-0d1d-45c3-c496-22bdf1b55b72",
        "colab": {
          "base_uri": "https://localhost:8080/",
          "height": 1000
        }
      },
      "source": [
        "from google.colab import drive\n",
        "drive.mount('/content/drive')\n",
        "%cd '/content/drive/My Drive/GaTech/Spring20/NL-CS7650/Controlled-textgen-model/'\n",
        "# clone repo locally\n",
        "!pip install --quiet transformers syntok \n",
        "\n",
        "%cd fast-bert\n",
        "!pip install .\n",
        "%cd ..\n",
        "\n",
        "# need older versions of torch and torchvision to train with fp16 (might ask to restart runtime)\n",
        "# !pip install https://download.pytorch.org/whl/cu100/torch-1.2.0-cp36-cp36m-manylinux1_x86_64.whl && pip install https://download.pytorch.org/whl/cu100/torchvision-0.4.0-cp36-cp36m-manylinux1_x86_64.whl\n",
        "# install apex\n",
        "# % cd apex\n",
        "# ! pip install -v --no-cache-dir --global-option=\"--cpp_ext\" --global-option=\"--cuda_ext\" ./\n",
        "# % cd ..\n",
        "\n",
        "# Imports\n",
        "import pandas as pd\n",
        "import numpy as np\n",
        "from transformers import BertTokenizer\n",
        "import torch\n",
        "import re\n",
        "import os\n",
        "import sys\n",
        "# sys.path.insert(0, os.path.abspath(os.path.join(os.path.dirname(__file__), '..')))\n",
        "from helpers.fast_bert_dataprep import *"
      ],
      "execution_count": 0,
      "outputs": [
        {
          "output_type": "stream",
          "text": [
            "Go to this URL in a browser: https://accounts.google.com/o/oauth2/auth?client_id=947318989803-6bn6qk8qdgf4n4g3pfee6491hc0brc4i.apps.googleusercontent.com&redirect_uri=urn%3aietf%3awg%3aoauth%3a2.0%3aoob&response_type=code&scope=email%20https%3a%2f%2fwww.googleapis.com%2fauth%2fdocs.test%20https%3a%2f%2fwww.googleapis.com%2fauth%2fdrive%20https%3a%2f%2fwww.googleapis.com%2fauth%2fdrive.photos.readonly%20https%3a%2f%2fwww.googleapis.com%2fauth%2fpeopleapi.readonly\n",
            "\n",
            "Enter your authorization code:\n",
            "··········\n",
            "Mounted at /content/drive\n",
            "/content/drive/My Drive/GaTech/Spring20/NL-CS7650/Controlled-textgen-model\n",
            "\u001b[K     |████████████████████████████████| 573kB 32.8MB/s \n",
            "\u001b[K     |████████████████████████████████| 890kB 49.4MB/s \n",
            "\u001b[K     |████████████████████████████████| 1.0MB 52.7MB/s \n",
            "\u001b[K     |████████████████████████████████| 3.7MB 51.4MB/s \n",
            "\u001b[?25h  Building wheel for syntok (setup.py) ... \u001b[?25l\u001b[?25hdone\n",
            "  Building wheel for sacremoses (setup.py) ... \u001b[?25l\u001b[?25hdone\n",
            "/content/drive/My Drive/GaTech/Spring20/NL-CS7650/Controlled-textgen-model/fast-bert\n",
            "Processing /content/drive/My Drive/GaTech/Spring20/NL-CS7650/Controlled-textgen-model/fast-bert\n",
            "Collecting pytorch-lamb\n",
            "  Downloading https://files.pythonhosted.org/packages/43/98/3bce14a319317a2856db722f2542d329baf42845fa53563d0d749c5a2d40/pytorch_lamb-1.0.0-py3-none-any.whl\n",
            "Collecting tensorboardX\n",
            "\u001b[?25l  Downloading https://files.pythonhosted.org/packages/35/f1/5843425495765c8c2dd0784a851a93ef204d314fc87bcc2bbb9f662a3ad1/tensorboardX-2.0-py2.py3-none-any.whl (195kB)\n",
            "\u001b[K     |████████████████████████████████| 204kB 26.5MB/s \n",
            "\u001b[?25hRequirement already satisfied: fastprogress in /usr/local/lib/python3.6/dist-packages (from fast-bert==1.7.0) (0.2.3)\n",
            "Requirement already satisfied: sklearn in /usr/local/lib/python3.6/dist-packages (from fast-bert==1.7.0) (0.0)\n",
            "Requirement already satisfied: spacy in /usr/local/lib/python3.6/dist-packages (from fast-bert==1.7.0) (2.2.4)\n",
            "Requirement already satisfied: transformers>=2.8.0 in /usr/local/lib/python3.6/dist-packages (from fast-bert==1.7.0) (2.8.0)\n",
            "Requirement already satisfied: pandas in /usr/local/lib/python3.6/dist-packages (from fast-bert==1.7.0) (1.0.3)\n",
            "Collecting python-box\n",
            "  Downloading https://files.pythonhosted.org/packages/50/65/e17079abed2dac4475a88c4a1b7ba5c45fe0662cde12b7276508291aa6b7/python_box-4.2.2-py3-none-any.whl\n",
            "Requirement already satisfied: tokenizers in /usr/local/lib/python3.6/dist-packages (from fast-bert==1.7.0) (0.5.2)\n",
            "Requirement already satisfied: tqdm in /usr/local/lib/python3.6/dist-packages (from pytorch-lamb->fast-bert==1.7.0) (4.38.0)\n",
            "Requirement already satisfied: torchvision in /usr/local/lib/python3.6/dist-packages (from pytorch-lamb->fast-bert==1.7.0) (0.5.0)\n",
            "Requirement already satisfied: torch>=0.4.1 in /usr/local/lib/python3.6/dist-packages (from pytorch-lamb->fast-bert==1.7.0) (1.4.0)\n",
            "Requirement already satisfied: protobuf>=3.8.0 in /usr/local/lib/python3.6/dist-packages (from tensorboardX->fast-bert==1.7.0) (3.10.0)\n",
            "Requirement already satisfied: six in /usr/local/lib/python3.6/dist-packages (from tensorboardX->fast-bert==1.7.0) (1.12.0)\n",
            "Requirement already satisfied: numpy in /usr/local/lib/python3.6/dist-packages (from tensorboardX->fast-bert==1.7.0) (1.18.2)\n",
            "Requirement already satisfied: scikit-learn in /usr/local/lib/python3.6/dist-packages (from sklearn->fast-bert==1.7.0) (0.22.2.post1)\n",
            "Requirement already satisfied: blis<0.5.0,>=0.4.0 in /usr/local/lib/python3.6/dist-packages (from spacy->fast-bert==1.7.0) (0.4.1)\n",
            "Requirement already satisfied: wasabi<1.1.0,>=0.4.0 in /usr/local/lib/python3.6/dist-packages (from spacy->fast-bert==1.7.0) (0.6.0)\n",
            "Requirement already satisfied: catalogue<1.1.0,>=0.0.7 in /usr/local/lib/python3.6/dist-packages (from spacy->fast-bert==1.7.0) (1.0.0)\n",
            "Requirement already satisfied: murmurhash<1.1.0,>=0.28.0 in /usr/local/lib/python3.6/dist-packages (from spacy->fast-bert==1.7.0) (1.0.2)\n",
            "Requirement already satisfied: setuptools in /usr/local/lib/python3.6/dist-packages (from spacy->fast-bert==1.7.0) (46.1.3)\n",
            "Requirement already satisfied: plac<1.2.0,>=0.9.6 in /usr/local/lib/python3.6/dist-packages (from spacy->fast-bert==1.7.0) (1.1.3)\n",
            "Requirement already satisfied: requests<3.0.0,>=2.13.0 in /usr/local/lib/python3.6/dist-packages (from spacy->fast-bert==1.7.0) (2.21.0)\n",
            "Requirement already satisfied: preshed<3.1.0,>=3.0.2 in /usr/local/lib/python3.6/dist-packages (from spacy->fast-bert==1.7.0) (3.0.2)\n",
            "Requirement already satisfied: cymem<2.1.0,>=2.0.2 in /usr/local/lib/python3.6/dist-packages (from spacy->fast-bert==1.7.0) (2.0.3)\n",
            "Requirement already satisfied: srsly<1.1.0,>=1.0.2 in /usr/local/lib/python3.6/dist-packages (from spacy->fast-bert==1.7.0) (1.0.2)\n",
            "Requirement already satisfied: thinc==7.4.0 in /usr/local/lib/python3.6/dist-packages (from spacy->fast-bert==1.7.0) (7.4.0)\n",
            "Requirement already satisfied: filelock in /usr/local/lib/python3.6/dist-packages (from transformers>=2.8.0->fast-bert==1.7.0) (3.0.12)\n",
            "Requirement already satisfied: sacremoses in /usr/local/lib/python3.6/dist-packages (from transformers>=2.8.0->fast-bert==1.7.0) (0.0.41)\n",
            "Requirement already satisfied: boto3 in /usr/local/lib/python3.6/dist-packages (from transformers>=2.8.0->fast-bert==1.7.0) (1.12.40)\n",
            "Requirement already satisfied: regex!=2019.12.17 in /usr/local/lib/python3.6/dist-packages (from transformers>=2.8.0->fast-bert==1.7.0) (2019.12.20)\n",
            "Requirement already satisfied: dataclasses; python_version < \"3.7\" in /usr/local/lib/python3.6/dist-packages (from transformers>=2.8.0->fast-bert==1.7.0) (0.7)\n",
            "Requirement already satisfied: sentencepiece in /usr/local/lib/python3.6/dist-packages (from transformers>=2.8.0->fast-bert==1.7.0) (0.1.85)\n",
            "Requirement already satisfied: pytz>=2017.2 in /usr/local/lib/python3.6/dist-packages (from pandas->fast-bert==1.7.0) (2018.9)\n",
            "Requirement already satisfied: python-dateutil>=2.6.1 in /usr/local/lib/python3.6/dist-packages (from pandas->fast-bert==1.7.0) (2.8.1)\n",
            "Collecting toml\n",
            "  Downloading https://files.pythonhosted.org/packages/a2/12/ced7105d2de62fa7c8fb5fce92cc4ce66b57c95fb875e9318dba7f8c5db0/toml-0.10.0-py2.py3-none-any.whl\n",
            "Collecting ruamel.yaml\n",
            "\u001b[?25l  Downloading https://files.pythonhosted.org/packages/a6/92/59af3e38227b9cc14520bf1e59516d99ceca53e3b8448094248171e9432b/ruamel.yaml-0.16.10-py2.py3-none-any.whl (111kB)\n",
            "\u001b[K     |████████████████████████████████| 112kB 60.1MB/s \n",
            "\u001b[?25hRequirement already satisfied: pillow>=4.1.1 in /usr/local/lib/python3.6/dist-packages (from torchvision->pytorch-lamb->fast-bert==1.7.0) (7.0.0)\n",
            "Requirement already satisfied: scipy>=0.17.0 in /usr/local/lib/python3.6/dist-packages (from scikit-learn->sklearn->fast-bert==1.7.0) (1.4.1)\n",
            "Requirement already satisfied: joblib>=0.11 in /usr/local/lib/python3.6/dist-packages (from scikit-learn->sklearn->fast-bert==1.7.0) (0.14.1)\n",
            "Requirement already satisfied: importlib-metadata>=0.20; python_version < \"3.8\" in /usr/local/lib/python3.6/dist-packages (from catalogue<1.1.0,>=0.0.7->spacy->fast-bert==1.7.0) (1.6.0)\n",
            "Requirement already satisfied: urllib3<1.25,>=1.21.1 in /usr/local/lib/python3.6/dist-packages (from requests<3.0.0,>=2.13.0->spacy->fast-bert==1.7.0) (1.24.3)\n",
            "Requirement already satisfied: chardet<3.1.0,>=3.0.2 in /usr/local/lib/python3.6/dist-packages (from requests<3.0.0,>=2.13.0->spacy->fast-bert==1.7.0) (3.0.4)\n",
            "Requirement already satisfied: certifi>=2017.4.17 in /usr/local/lib/python3.6/dist-packages (from requests<3.0.0,>=2.13.0->spacy->fast-bert==1.7.0) (2020.4.5.1)\n",
            "Requirement already satisfied: idna<2.9,>=2.5 in /usr/local/lib/python3.6/dist-packages (from requests<3.0.0,>=2.13.0->spacy->fast-bert==1.7.0) (2.8)\n",
            "Requirement already satisfied: click in /usr/local/lib/python3.6/dist-packages (from sacremoses->transformers>=2.8.0->fast-bert==1.7.0) (7.1.1)\n",
            "Requirement already satisfied: jmespath<1.0.0,>=0.7.1 in /usr/local/lib/python3.6/dist-packages (from boto3->transformers>=2.8.0->fast-bert==1.7.0) (0.9.5)\n",
            "Requirement already satisfied: s3transfer<0.4.0,>=0.3.0 in /usr/local/lib/python3.6/dist-packages (from boto3->transformers>=2.8.0->fast-bert==1.7.0) (0.3.3)\n",
            "Requirement already satisfied: botocore<1.16.0,>=1.15.40 in /usr/local/lib/python3.6/dist-packages (from boto3->transformers>=2.8.0->fast-bert==1.7.0) (1.15.40)\n",
            "Collecting ruamel.yaml.clib>=0.1.2; platform_python_implementation == \"CPython\" and python_version < \"3.9\"\n",
            "\u001b[?25l  Downloading https://files.pythonhosted.org/packages/53/77/4bcd63f362bcb6c8f4f06253c11f9772f64189bf08cf3f40c5ccbda9e561/ruamel.yaml.clib-0.2.0-cp36-cp36m-manylinux1_x86_64.whl (548kB)\n",
            "\u001b[K     |████████████████████████████████| 552kB 58.9MB/s \n",
            "\u001b[?25hRequirement already satisfied: zipp>=0.5 in /usr/local/lib/python3.6/dist-packages (from importlib-metadata>=0.20; python_version < \"3.8\"->catalogue<1.1.0,>=0.0.7->spacy->fast-bert==1.7.0) (3.1.0)\n",
            "Requirement already satisfied: docutils<0.16,>=0.10 in /usr/local/lib/python3.6/dist-packages (from botocore<1.16.0,>=1.15.40->boto3->transformers>=2.8.0->fast-bert==1.7.0) (0.15.2)\n",
            "Building wheels for collected packages: fast-bert\n",
            "  Building wheel for fast-bert (setup.py) ... \u001b[?25l\u001b[?25hdone\n",
            "  Created wheel for fast-bert: filename=fast_bert-1.7.0-cp36-none-any.whl size=78681 sha256=87d40e02e40ad487a7e08d845da898e5dc01b5c6b2a2d8b991aae2bfa648c973\n",
            "  Stored in directory: /root/.cache/pip/wheels/90/1f/cd/f412d8677a02c19cd7ed54d819a924895ca3fd3d4dd652d0da\n",
            "Successfully built fast-bert\n",
            "Installing collected packages: tensorboardX, pytorch-lamb, toml, ruamel.yaml.clib, ruamel.yaml, python-box, fast-bert\n",
            "Successfully installed fast-bert-1.7.0 python-box-4.2.2 pytorch-lamb-1.0.0 ruamel.yaml-0.16.10 ruamel.yaml.clib-0.2.0 tensorboardX-2.0 toml-0.10.0\n",
            "/content/drive/My Drive/GaTech/Spring20/NL-CS7650/Controlled-textgen-model\n"
          ],
          "name": "stdout"
        }
      ]
    },
    {
      "cell_type": "code",
      "metadata": {
        "id": "ux81UWmuka6x",
        "colab_type": "code",
        "outputId": "56cf33b1-6dfd-470d-eb5e-023eb8a5e9bf",
        "colab": {
          "base_uri": "https://localhost:8080/",
          "height": 54
        }
      },
      "source": [
        "!pip list | grep 'fast-bert'"
      ],
      "execution_count": 0,
      "outputs": [
        {
          "output_type": "stream",
          "text": [
            "fast-bert                1.7.0           /content/drive/My Drive/GaTech/Spring20/NL-CS7650/Controlled-textgen-model/fast-bert\n"
          ],
          "name": "stdout"
        }
      ]
    },
    {
      "cell_type": "code",
      "metadata": {
        "colab_type": "code",
        "id": "wRwKw-xmrbQl",
        "outputId": "9fc99a84-2dc6-4ff2-877d-f01007f389de",
        "colab": {
          "base_uri": "https://localhost:8080/",
          "height": 54
        }
      },
      "source": [
        "\"\"\"\n",
        "try:\n",
        "    from apex import amp\n",
        "except:\n",
        "    % cd apex\n",
        "    ! pip install -v --no-cache-dir --global-option=\"--cpp_ext\" --global-option=\"--cuda_ext\" ./\n",
        "    % cd ..\n",
        "\"\"\""
      ],
      "execution_count": 0,
      "outputs": [
        {
          "output_type": "execute_result",
          "data": {
            "text/plain": [
              "'\\ntry:\\n    from apex import amp\\nexcept:\\n    % cd apex\\n    ! pip install -v --no-cache-dir --global-option=\"--cpp_ext\" --global-option=\"--cuda_ext\" ./\\n    % cd ..\\n'"
            ]
          },
          "metadata": {
            "tags": []
          },
          "execution_count": 2
        }
      ]
    },
    {
      "cell_type": "markdown",
      "metadata": {
        "colab_type": "text",
        "id": "RsRe5SYGyZwD"
      },
      "source": [
        "# FAST-BERT "
      ]
    },
    {
      "cell_type": "code",
      "metadata": {
        "id": "pyDq4TMlGXMm",
        "colab_type": "code",
        "outputId": "e235be58-8c66-449b-8700-98fd303ba54d",
        "colab": {
          "base_uri": "https://localhost:8080/",
          "height": 306
        }
      },
      "source": [
        "!nvidia-smi"
      ],
      "execution_count": 0,
      "outputs": [
        {
          "output_type": "stream",
          "text": [
            "Fri Apr 24 00:53:01 2020       \n",
            "+-----------------------------------------------------------------------------+\n",
            "| NVIDIA-SMI 440.64.00    Driver Version: 418.67       CUDA Version: 10.1     |\n",
            "|-------------------------------+----------------------+----------------------+\n",
            "| GPU  Name        Persistence-M| Bus-Id        Disp.A | Volatile Uncorr. ECC |\n",
            "| Fan  Temp  Perf  Pwr:Usage/Cap|         Memory-Usage | GPU-Util  Compute M. |\n",
            "|===============================+======================+======================|\n",
            "|   0  Tesla P100-PCIE...  Off  | 00000000:00:04.0 Off |                    0 |\n",
            "| N/A   51C    P0    27W / 250W |      0MiB / 16280MiB |      0%      Default |\n",
            "+-------------------------------+----------------------+----------------------+\n",
            "                                                                               \n",
            "+-----------------------------------------------------------------------------+\n",
            "| Processes:                                                       GPU Memory |\n",
            "|  GPU       PID   Type   Process name                             Usage      |\n",
            "|=============================================================================|\n",
            "|  No running processes found                                                 |\n",
            "+-----------------------------------------------------------------------------+\n"
          ],
          "name": "stdout"
        }
      ]
    },
    {
      "cell_type": "code",
      "metadata": {
        "id": "q9tw9wKDDXbT",
        "colab_type": "code",
        "outputId": "6ce6f100-433e-4a47-812e-bafb7f0d2f16",
        "colab": {
          "base_uri": "https://localhost:8080/",
          "height": 105
        }
      },
      "source": [
        "!ps -aux|grep python"
      ],
      "execution_count": 0,
      "outputs": [
        {
          "output_type": "stream",
          "text": [
            "root          25  0.2  0.7 410964 102520 ?       Sl   00:18   0:04 /usr/bin/python2 /usr/local/bin/jupyter-notebook --ip=\"172.28.0.2\" --port=9000 --FileContentsManager.root_dir=\"/\" --MappingKernelManager.root_dir=\"/content\"\n",
            "root         124 15.6 36.1 28894324 4825844 ?    Ssl  00:38   2:14 /usr/bin/python3 -m ipykernel_launcher -f /root/.local/share/jupyter/runtime/kernel-cea6cacb-d6f2-40d6-922f-5646e9f091aa.json\n",
            "root         584  0.0  0.0  39196  6604 ?        S    00:52   0:00 /bin/bash -c ps -aux|grep python\n",
            "root         586  0.0  0.0  38572  4920 ?        S    00:52   0:00 grep python\n"
          ],
          "name": "stdout"
        }
      ]
    },
    {
      "cell_type": "code",
      "metadata": {
        "id": "cZxDLW9xDe25",
        "colab_type": "code",
        "colab": {}
      },
      "source": [
        "!kill -9 124"
      ],
      "execution_count": 0,
      "outputs": []
    },
    {
      "cell_type": "code",
      "metadata": {
        "colab_type": "code",
        "id": "g9tWah4fIZZt",
        "outputId": "0c77e55f-aab3-4982-ad96-0aa0ff8b37bc",
        "colab": {
          "base_uri": "https://localhost:8080/",
          "height": 51
        }
      },
      "source": [
        "from fast_bert.data_cls import BertDataBunch\n",
        "from pathlib import Path\n",
        "\n",
        "# EDIT 4/21 : training new model (512, bert-base-uncased)     - models2/\n",
        "# EDIT 4/22 : Traning bert base uncased 5 more epochs - model2_2 /\n",
        "\n",
        "MAX_LEN = 512 # previous model 300\n",
        "\n",
        "text_col = 'script'\n",
        "label_col = ['Action', 'Adventure', 'Comedy', 'Crime', 'Drama', 'Fantasy', \n",
        "             'Horror', 'Mystery', 'Romance', 'Sci-Fi', 'Thriller']\n",
        "DATA_PATH = Path('./data/')\n",
        "LABEL_PATH = DATA_PATH\n",
        "\n",
        "train_file = 'fast_train_' + str(MAX_LEN) + '.csv'\n",
        "val_file = 'fast_val_' + str(MAX_LEN) + '.csv'\n",
        "\n",
        "print(os.path.exists(DATA_PATH/train_file))\n",
        "print(os.path.exists(DATA_PATH/val_file))\n",
        "\n",
        "# goodtogo = check_fastBert_data(MAX_LEN)\n",
        "# if not goodtogo: die()\n",
        "\n",
        "MODEL_NAME = 'bert-base-uncased'\n",
        "\n",
        "databunch = BertDataBunch(DATA_PATH, LABEL_PATH,\n",
        "                          tokenizer=MODEL_NAME,\n",
        "                          train_file=train_file,\n",
        "                          val_file=val_file,\n",
        "                          label_file='fast_labels.csv',\n",
        "                          text_col=text_col,\n",
        "                          label_col=label_col,\n",
        "                          batch_size_per_gpu=6,\n",
        "                          max_seq_length=MAX_LEN,\n",
        "                          multi_gpu=False,\n",
        "                          multi_label=True,\n",
        "                          model_type='bert')"
      ],
      "execution_count": 0,
      "outputs": [
        {
          "output_type": "stream",
          "text": [
            "True\n",
            "True\n"
          ],
          "name": "stdout"
        }
      ]
    },
    {
      "cell_type": "markdown",
      "metadata": {
        "colab_type": "text",
        "id": "XZlYZz5G19XU"
      },
      "source": [
        "**NOTE** remember to change `usePretrained` to True if we've already have a fine-tuned model"
      ]
    },
    {
      "cell_type": "code",
      "metadata": {
        "colab_type": "code",
        "id": "5F4FoK2ryJYE",
        "outputId": "6b0ba278-980b-494f-e90c-f8e87310f26c",
        "colab": {
          "base_uri": "https://localhost:8080/",
          "height": 1000
        }
      },
      "source": [
        "from fast_bert.learner_cls import BertLearner\n",
        "from fast_bert.metrics import accuracy, F1\n",
        "import logging\n",
        "from torch import Tensor\n",
        "\n",
        "# EDIT 4/20 - my_accuracy_thresh changed thrshold to 0.5 and sigmoid=True\n",
        "\t\t# Also started using F1 score which uses 0.5 and sigmoid\n",
        "\t\t# Changed train with Fp16 option to False (apex isn't working again)\n",
        "\n",
        "def my_accuracy_thresh(\n",
        "    y_pred: Tensor,\n",
        "    y_true: Tensor,\n",
        "    thresh: float = 0.5,\n",
        "    sigmoid: bool = True,\n",
        "):\n",
        "    \"Compute accuracy when `y_pred` and `y_true` are the same size.\"\n",
        "    if sigmoid:\n",
        "        y_pred = y_pred.sigmoid()\n",
        "    return ((y_pred > thresh) == y_true.bool()).float().mean().item()\n",
        "\n",
        "logging.basicConfig(level=logging.NOTSET)\n",
        "logger = logging.getLogger()\n",
        "device_cuda = torch.device(\"cuda\")\n",
        "metrics = [{'name': 'accuracy_thresh', 'function': my_accuracy_thresh}, {'name': 'F1', 'function':F1}]\n",
        "\n",
        "OUTPUTDIR = Path('./models3/')\n",
        "\n",
        "# MODEL_PATH = OUTPUTDIR/'model_epoch_0' # new with 512 max_len\n",
        "\n",
        "usePretrained = True\n",
        "if usePretrained:\n",
        "\tpretrained_path = Path('./models/model_out_0')\n",
        "else:\n",
        "\tpretrained_path = MODEL_NAME\n",
        "\n",
        "learner = BertLearner.from_pretrained_model(\n",
        "\t\t\t\t\t\tdatabunch,\n",
        "\t\t\t\t\t\tpretrained_path=pretrained_path,  #(to use saved model)\n",
        "\t\t\t\t\t\tmetrics=metrics,\n",
        "\t\t\t\t\t\tdevice=device_cuda,\n",
        "\t\t\t\t\t\tlogger=logger,\n",
        "\t\t\t\t\t\toutput_dir=OUTPUTDIR,\n",
        "\t\t\t\t\t\tfinetuned_wgts_path=None,\n",
        "\t\t\t\t\t\twarmup_steps=500,\n",
        "\t\t\t\t\t\tmulti_gpu=False,\n",
        "\t\t\t\t\t\tis_fp16=False,\n",
        "\t\t\t\t\t\tmulti_label=True,\n",
        "\t\t\t\t\t\tlogging_steps=50)\n",
        "# set weight_decay\n",
        "learner.weight_decay = 0.01"
      ],
      "execution_count": 0,
      "outputs": [
        {
          "output_type": "stream",
          "text": [
            "INFO:transformers.configuration_utils:loading configuration file models/model_out_0/config.json\n",
            "INFO:transformers.configuration_utils:Model config BertConfig {\n",
            "  \"_num_labels\": 11,\n",
            "  \"architectures\": [\n",
            "    \"BertForMultiLabelSequenceClassification\"\n",
            "  ],\n",
            "  \"attention_probs_dropout_prob\": 0.1,\n",
            "  \"bad_words_ids\": null,\n",
            "  \"bos_token_id\": null,\n",
            "  \"decoder_start_token_id\": null,\n",
            "  \"do_sample\": false,\n",
            "  \"early_stopping\": false,\n",
            "  \"eos_token_id\": null,\n",
            "  \"finetuning_task\": null,\n",
            "  \"hidden_act\": \"gelu\",\n",
            "  \"hidden_dropout_prob\": 0.1,\n",
            "  \"hidden_size\": 768,\n",
            "  \"id2label\": {\n",
            "    \"0\": \"LABEL_0\",\n",
            "    \"1\": \"LABEL_1\",\n",
            "    \"2\": \"LABEL_2\",\n",
            "    \"3\": \"LABEL_3\",\n",
            "    \"4\": \"LABEL_4\",\n",
            "    \"5\": \"LABEL_5\",\n",
            "    \"6\": \"LABEL_6\",\n",
            "    \"7\": \"LABEL_7\",\n",
            "    \"8\": \"LABEL_8\",\n",
            "    \"9\": \"LABEL_9\",\n",
            "    \"10\": \"LABEL_10\"\n",
            "  },\n",
            "  \"initializer_range\": 0.02,\n",
            "  \"intermediate_size\": 3072,\n",
            "  \"is_decoder\": false,\n",
            "  \"is_encoder_decoder\": false,\n",
            "  \"label2id\": {\n",
            "    \"LABEL_0\": 0,\n",
            "    \"LABEL_1\": 1,\n",
            "    \"LABEL_10\": 10,\n",
            "    \"LABEL_2\": 2,\n",
            "    \"LABEL_3\": 3,\n",
            "    \"LABEL_4\": 4,\n",
            "    \"LABEL_5\": 5,\n",
            "    \"LABEL_6\": 6,\n",
            "    \"LABEL_7\": 7,\n",
            "    \"LABEL_8\": 8,\n",
            "    \"LABEL_9\": 9\n",
            "  },\n",
            "  \"layer_norm_eps\": 1e-12,\n",
            "  \"length_penalty\": 1.0,\n",
            "  \"max_length\": 20,\n",
            "  \"max_position_embeddings\": 512,\n",
            "  \"min_length\": 0,\n",
            "  \"model_type\": \"bert\",\n",
            "  \"no_repeat_ngram_size\": 0,\n",
            "  \"num_attention_heads\": 12,\n",
            "  \"num_beams\": 1,\n",
            "  \"num_hidden_layers\": 12,\n",
            "  \"num_return_sequences\": 1,\n",
            "  \"output_attentions\": false,\n",
            "  \"output_hidden_states\": false,\n",
            "  \"output_past\": true,\n",
            "  \"pad_token_id\": 0,\n",
            "  \"prefix\": null,\n",
            "  \"pruned_heads\": {},\n",
            "  \"repetition_penalty\": 1.0,\n",
            "  \"task_specific_params\": null,\n",
            "  \"temperature\": 1.0,\n",
            "  \"top_k\": 50,\n",
            "  \"top_p\": 1.0,\n",
            "  \"torchscript\": false,\n",
            "  \"type_vocab_size\": 2,\n",
            "  \"use_bfloat16\": false,\n",
            "  \"vocab_size\": 30522\n",
            "}\n",
            "\n",
            "INFO:transformers.modeling_utils:loading weights file models/model_out_0/pytorch_model.bin\n"
          ],
          "name": "stderr"
        }
      ]
    },
    {
      "cell_type": "code",
      "metadata": {
        "id": "2wEAKhh3kv5_",
        "colab_type": "code",
        "colab": {}
      },
      "source": [
        "learner.validate()"
      ],
      "execution_count": 0,
      "outputs": []
    },
    {
      "cell_type": "code",
      "metadata": {
        "id": "LpLMODKBwlOm",
        "colab_type": "code",
        "colab": {}
      },
      "source": [
        "lst = list(learner.model.named_parameters())\n",
        "print(lst[-1])\n",
        "print(lst[-2])\n",
        "# print(lst[-3])"
      ],
      "execution_count": 0,
      "outputs": []
    },
    {
      "cell_type": "code",
      "metadata": {
        "id": "0SYk9Euc2tCi",
        "colab_type": "code",
        "colab": {}
      },
      "source": [
        "!ls "
      ],
      "execution_count": 0,
      "outputs": []
    },
    {
      "cell_type": "code",
      "metadata": {
        "colab_type": "code",
        "id": "f30B8kv5yKAv",
        "outputId": "c2651be5-bf28-44d9-a203-67221edc6d89",
        "colab": {
          "base_uri": "https://localhost:8080/",
          "height": 792
        }
      },
      "source": [
        "learner.fit(epochs=5,\n",
        "\t\t\tlr=6e-4,\n",
        "\t\t\tvalidate=True, \t# Evaluate the model after each epoch\n",
        "\t\t\tschedule_type=\"warmup_cosine\",\n",
        "\t\t\toptimizer_type=\"lamb\")\n",
        "# learner.save_model() # no need modified library file to save after every epoch\n",
        "\n",
        "# simple inference right after training\n",
        "# texts = ['I really love the Netflix original movies',\n",
        "# \t\t 'this movie is not worth watching']\n",
        "# predictions = learner.predict_batch(texts)"
      ],
      "execution_count": 0,
      "outputs": [
        {
          "output_type": "stream",
          "text": [
            "INFO:root:***** Running training *****\n",
            "INFO:root:  Num examples = 45856\n",
            "INFO:root:  Num Epochs = 5\n",
            "INFO:root:  Total train batch size (w. parallel, distributed & accumulation) = 6\n",
            "INFO:root:  Gradient Accumulation steps = 1\n",
            "INFO:root:  Total optimization steps = 38215\n"
          ],
          "name": "stderr"
        },
        {
          "output_type": "stream",
          "text": [
            "*******OPTIMIZER CHANGED********\n",
            "[{'params': [Parameter containing:\n",
            "tensor([[-0.0306, -0.0029,  0.0228,  ...,  0.0155,  0.0173,  0.0010],\n",
            "        [ 0.0131,  0.0061,  0.0118,  ..., -0.0387,  0.0122, -0.0007],\n",
            "        [ 0.0045, -0.0320,  0.0147,  ..., -0.0204,  0.0235, -0.0244],\n",
            "        ...,\n",
            "        [ 0.0121,  0.0125,  0.0229,  ..., -0.0222,  0.0198,  0.0027],\n",
            "        [ 0.0374, -0.0017,  0.0237,  ...,  0.0140, -0.0067, -0.0313],\n",
            "        [ 0.0157,  0.0095,  0.0401,  ..., -0.0061,  0.0074,  0.0092]],\n",
            "       device='cuda:0', requires_grad=True)], 'weight_decay': 0.01}, {'params': [Parameter containing:\n",
            "tensor([0., 0., 0., 0., 0., 0., 0., 0., 0., 0., 0.], device='cuda:0',\n",
            "       requires_grad=True)], 'weight_decay': 0.0}]\n"
          ],
          "name": "stdout"
        },
        {
          "output_type": "display_data",
          "data": {
            "text/html": [
              "\n",
              "    <div>\n",
              "        <style>\n",
              "            /* Turns off some styling */\n",
              "            progress {\n",
              "                /* gets rid of default border in Firefox and Opera. */\n",
              "                border: none;\n",
              "                /* Needs to be in here for Safari polyfill so background images work as expected. */\n",
              "                background-size: auto;\n",
              "            }\n",
              "            .progress-bar-interrupted, .progress-bar-interrupted::-webkit-progress-bar {\n",
              "                background: #F44336;\n",
              "            }\n",
              "        </style>\n",
              "      <progress value='0' class='' max='5' style='width:300px; height:20px; vertical-align: middle;'></progress>\n",
              "      0.00% [0/5 00:00<00:00]\n",
              "    </div>\n",
              "    \n",
              "\n",
              "\n",
              "    <div>\n",
              "        <style>\n",
              "            /* Turns off some styling */\n",
              "            progress {\n",
              "                /* gets rid of default border in Firefox and Opera. */\n",
              "                border: none;\n",
              "                /* Needs to be in here for Safari polyfill so background images work as expected. */\n",
              "                background-size: auto;\n",
              "            }\n",
              "            .progress-bar-interrupted, .progress-bar-interrupted::-webkit-progress-bar {\n",
              "                background: #F44336;\n",
              "            }\n",
              "        </style>\n",
              "      <progress value='49' class='' max='7643' style='width:300px; height:20px; vertical-align: middle;'></progress>\n",
              "      0.64% [49/7643 00:17<45:02]\n",
              "    </div>\n",
              "    "
            ],
            "text/plain": [
              "<IPython.core.display.HTML object>"
            ]
          },
          "metadata": {
            "tags": []
          }
        },
        {
          "output_type": "stream",
          "text": [
            "INFO:root:Running evaluation\n",
            "INFO:root:  Num examples = 5282\n",
            "INFO:root:  Batch size = 12\n"
          ],
          "name": "stderr"
        },
        {
          "output_type": "display_data",
          "data": {
            "text/html": [
              "\n",
              "    <div>\n",
              "        <style>\n",
              "            /* Turns off some styling */\n",
              "            progress {\n",
              "                /* gets rid of default border in Firefox and Opera. */\n",
              "                border: none;\n",
              "                /* Needs to be in here for Safari polyfill so background images work as expected. */\n",
              "                background-size: auto;\n",
              "            }\n",
              "            .progress-bar-interrupted, .progress-bar-interrupted::-webkit-progress-bar {\n",
              "                background: #F44336;\n",
              "            }\n",
              "        </style>\n",
              "      <progress value='441' class='' max='441' style='width:300px; height:20px; vertical-align: middle;'></progress>\n",
              "      100.00% [441/441 01:34<00:00]\n",
              "    </div>\n",
              "    "
            ],
            "text/plain": [
              "<IPython.core.display.HTML object>"
            ]
          },
          "metadata": {
            "tags": []
          }
        },
        {
          "output_type": "error",
          "ename": "ValueError",
          "evalue": "ignored",
          "traceback": [
            "\u001b[0;31m---------------------------------------------------------------------------\u001b[0m",
            "\u001b[0;31mValueError\u001b[0m                                Traceback (most recent call last)",
            "\u001b[0;32m<ipython-input-5-743171fd0807>\u001b[0m in \u001b[0;36m<module>\u001b[0;34m()\u001b[0m\n\u001b[1;32m      3\u001b[0m                         \u001b[0mvalidate\u001b[0m\u001b[0;34m=\u001b[0m\u001b[0;32mTrue\u001b[0m\u001b[0;34m,\u001b[0m  \u001b[0;31m# Evaluate the model after each epoch\u001b[0m\u001b[0;34m\u001b[0m\u001b[0;34m\u001b[0m\u001b[0m\n\u001b[1;32m      4\u001b[0m                         \u001b[0mschedule_type\u001b[0m\u001b[0;34m=\u001b[0m\u001b[0;34m\"warmup_cosine\"\u001b[0m\u001b[0;34m,\u001b[0m\u001b[0;34m\u001b[0m\u001b[0;34m\u001b[0m\u001b[0m\n\u001b[0;32m----> 5\u001b[0;31m \t\t\toptimizer_type=\"lamb\")\n\u001b[0m\u001b[1;32m      6\u001b[0m \u001b[0;31m# learner.save_model() # no need modified library file to save after every epoch\u001b[0m\u001b[0;34m\u001b[0m\u001b[0;34m\u001b[0m\u001b[0;34m\u001b[0m\u001b[0m\n\u001b[1;32m      7\u001b[0m \u001b[0;34m\u001b[0m\u001b[0m\n",
            "\u001b[0;32m/usr/local/lib/python3.6/dist-packages/fast_bert/learner_cls.py\u001b[0m in \u001b[0;36mfit\u001b[0;34m(self, epochs, lr, validate, return_results, schedule_type, optimizer_type)\u001b[0m\n\u001b[1;32m    424\u001b[0m                         \u001b[0;32mif\u001b[0m \u001b[0mvalidate\u001b[0m\u001b[0;34m:\u001b[0m\u001b[0;34m\u001b[0m\u001b[0;34m\u001b[0m\u001b[0m\n\u001b[1;32m    425\u001b[0m                             \u001b[0;31m# evaluate model\u001b[0m\u001b[0;34m\u001b[0m\u001b[0;34m\u001b[0m\u001b[0;34m\u001b[0m\u001b[0m\n\u001b[0;32m--> 426\u001b[0;31m                             \u001b[0mresults\u001b[0m \u001b[0;34m=\u001b[0m \u001b[0mself\u001b[0m\u001b[0;34m.\u001b[0m\u001b[0mvalidate\u001b[0m\u001b[0;34m(\u001b[0m\u001b[0;34m)\u001b[0m\u001b[0;34m\u001b[0m\u001b[0;34m\u001b[0m\u001b[0m\n\u001b[0m\u001b[1;32m    427\u001b[0m                             \u001b[0;32mfor\u001b[0m \u001b[0mkey\u001b[0m\u001b[0;34m,\u001b[0m \u001b[0mvalue\u001b[0m \u001b[0;32min\u001b[0m \u001b[0mresults\u001b[0m\u001b[0;34m.\u001b[0m\u001b[0mitems\u001b[0m\u001b[0;34m(\u001b[0m\u001b[0;34m)\u001b[0m\u001b[0;34m:\u001b[0m\u001b[0;34m\u001b[0m\u001b[0;34m\u001b[0m\u001b[0m\n\u001b[1;32m    428\u001b[0m                                 tb_writer.add_scalar(\n",
            "\u001b[0;32m/usr/local/lib/python3.6/dist-packages/fast_bert/learner_cls.py\u001b[0m in \u001b[0;36mvalidate\u001b[0;34m(self)\u001b[0m\n\u001b[1;32m    552\u001b[0m                 \u001b[0mall_logits\u001b[0m\u001b[0;34m,\u001b[0m \u001b[0mall_labels\u001b[0m\u001b[0;34m\u001b[0m\u001b[0;34m\u001b[0m\u001b[0m\n\u001b[1;32m    553\u001b[0m             )\n\u001b[0;32m--> 554\u001b[0;31m         \u001b[0mprint\u001b[0m\u001b[0;34m(\u001b[0m\u001b[0mclassification_report\u001b[0m\u001b[0;34m(\u001b[0m\u001b[0mall_logits\u001b[0m\u001b[0;34m.\u001b[0m\u001b[0mcpu\u001b[0m\u001b[0;34m(\u001b[0m\u001b[0;34m)\u001b[0m\u001b[0;34m,\u001b[0m \u001b[0mall_labels\u001b[0m\u001b[0;34m.\u001b[0m\u001b[0mcpu\u001b[0m\u001b[0;34m(\u001b[0m\u001b[0;34m)\u001b[0m\u001b[0;34m)\u001b[0m\u001b[0;34m)\u001b[0m\u001b[0;34m\u001b[0m\u001b[0;34m\u001b[0m\u001b[0m\n\u001b[0m\u001b[1;32m    555\u001b[0m         \u001b[0mexit\u001b[0m\u001b[0;34m(\u001b[0m\u001b[0;34m)\u001b[0m\u001b[0;34m\u001b[0m\u001b[0;34m\u001b[0m\u001b[0m\n\u001b[1;32m    556\u001b[0m         \u001b[0mresults\u001b[0m \u001b[0;34m=\u001b[0m \u001b[0;34m{\u001b[0m\u001b[0;34m\"loss\"\u001b[0m\u001b[0;34m:\u001b[0m \u001b[0meval_loss\u001b[0m\u001b[0;34m}\u001b[0m\u001b[0;34m\u001b[0m\u001b[0;34m\u001b[0m\u001b[0m\n",
            "\u001b[0;32m/usr/local/lib/python3.6/dist-packages/sklearn/metrics/_classification.py\u001b[0m in \u001b[0;36mclassification_report\u001b[0;34m(y_true, y_pred, labels, target_names, sample_weight, digits, output_dict, zero_division)\u001b[0m\n\u001b[1;32m   1969\u001b[0m     \"\"\"\n\u001b[1;32m   1970\u001b[0m \u001b[0;34m\u001b[0m\u001b[0m\n\u001b[0;32m-> 1971\u001b[0;31m     \u001b[0my_type\u001b[0m\u001b[0;34m,\u001b[0m \u001b[0my_true\u001b[0m\u001b[0;34m,\u001b[0m \u001b[0my_pred\u001b[0m \u001b[0;34m=\u001b[0m \u001b[0m_check_targets\u001b[0m\u001b[0;34m(\u001b[0m\u001b[0my_true\u001b[0m\u001b[0;34m,\u001b[0m \u001b[0my_pred\u001b[0m\u001b[0;34m)\u001b[0m\u001b[0;34m\u001b[0m\u001b[0;34m\u001b[0m\u001b[0m\n\u001b[0m\u001b[1;32m   1972\u001b[0m \u001b[0;34m\u001b[0m\u001b[0m\n\u001b[1;32m   1973\u001b[0m     \u001b[0mlabels_given\u001b[0m \u001b[0;34m=\u001b[0m \u001b[0;32mTrue\u001b[0m\u001b[0;34m\u001b[0m\u001b[0;34m\u001b[0m\u001b[0m\n",
            "\u001b[0;32m/usr/local/lib/python3.6/dist-packages/sklearn/metrics/_classification.py\u001b[0m in \u001b[0;36m_check_targets\u001b[0;34m(y_true, y_pred)\u001b[0m\n\u001b[1;32m     88\u001b[0m     \u001b[0;32mif\u001b[0m \u001b[0mlen\u001b[0m\u001b[0;34m(\u001b[0m\u001b[0my_type\u001b[0m\u001b[0;34m)\u001b[0m \u001b[0;34m>\u001b[0m \u001b[0;36m1\u001b[0m\u001b[0;34m:\u001b[0m\u001b[0;34m\u001b[0m\u001b[0;34m\u001b[0m\u001b[0m\n\u001b[1;32m     89\u001b[0m         raise ValueError(\"Classification metrics can't handle a mix of {0} \"\n\u001b[0;32m---> 90\u001b[0;31m                          \"and {1} targets\".format(type_true, type_pred))\n\u001b[0m\u001b[1;32m     91\u001b[0m \u001b[0;34m\u001b[0m\u001b[0m\n\u001b[1;32m     92\u001b[0m     \u001b[0;31m# We can't have more than one value on y_type => The set is no more needed\u001b[0m\u001b[0;34m\u001b[0m\u001b[0;34m\u001b[0m\u001b[0;34m\u001b[0m\u001b[0m\n",
            "\u001b[0;31mValueError\u001b[0m: Classification metrics can't handle a mix of continuous-multioutput and multilabel-indicator targets"
          ]
        }
      ]
    },
    {
      "cell_type": "code",
      "metadata": {
        "id": "-a-R-EQMRytY",
        "colab_type": "code",
        "outputId": "82155a5f-49f9-46d8-d14c-d4ce38c2a9a1",
        "colab": {
          "base_uri": "https://localhost:8080/",
          "height": 51
        }
      },
      "source": [
        "# memory footprint support libraries/code\n",
        "!ln -sf /opt/bin/nvidia-smi /usr/bin/nvidia-smi\n",
        "!pip install --quiet gputil psutil humanize\n",
        "\n",
        "import psutil\n",
        "import humanize\n",
        "import os\n",
        "import GPUtil as GPU\n",
        "\n",
        "GPUs = GPU.getGPUs()\n",
        "# XXX: only one GPU on Colab and isn’t guaranteed\n",
        "gpu = GPUs[0]\n",
        "def printm():\n",
        "    process = psutil.Process(os.getpid())\n",
        "    print(\"Gen RAM Free: \" + humanize.naturalsize(psutil.virtual_memory().available), \" |     Proc size: \" + humanize.naturalsize(process.memory_info().rss))\n",
        "    print(\"GPU RAM Free: {0:.0f}MB | Used: {1:.0f}MB | Util {2:3.0f}% | Total     {3:.0f}MB\".format(gpu.memoryFree, gpu.memoryUsed, gpu.memoryUtil*100, gpu.memoryTotal))\n",
        "printm()"
      ],
      "execution_count": 0,
      "outputs": [
        {
          "output_type": "stream",
          "text": [
            "Gen RAM Free: 9.9 GB  |     Proc size: 4.9 GB\n",
            "GPU RAM Free: 357MB | Used: 15923MB | Util  98% | Total     16280MB\n"
          ],
          "name": "stdout"
        }
      ]
    },
    {
      "cell_type": "markdown",
      "metadata": {
        "id": "EfaodwP8sx46",
        "colab_type": "text"
      },
      "source": [
        "# PREDICTION"
      ]
    },
    {
      "cell_type": "code",
      "metadata": {
        "colab_type": "code",
        "id": "HEjDdCXWB2c8",
        "colab": {}
      },
      "source": [
        "%load_ext tensorboard\n",
        "%tensorboard --logdir models/tensorboard/"
      ],
      "execution_count": 0,
      "outputs": []
    },
    {
      "cell_type": "code",
      "metadata": {
        "id": "z3m9zfNN1X9u",
        "colab_type": "code",
        "outputId": "a24dc328-cfe8-43bc-b87c-005bece126e1",
        "colab": {
          "base_uri": "https://localhost:8080/",
          "height": 589
        }
      },
      "source": [
        "df = pd.read_csv(\"data/output.csv\")\n",
        "df"
      ],
      "execution_count": 0,
      "outputs": [
        {
          "output_type": "execute_result",
          "data": {
            "text/html": [
              "<div>\n",
              "<style scoped>\n",
              "    .dataframe tbody tr th:only-of-type {\n",
              "        vertical-align: middle;\n",
              "    }\n",
              "\n",
              "    .dataframe tbody tr th {\n",
              "        vertical-align: top;\n",
              "    }\n",
              "\n",
              "    .dataframe thead th {\n",
              "        text-align: right;\n",
              "    }\n",
              "</style>\n",
              "<table border=\"1\" class=\"dataframe\">\n",
              "  <thead>\n",
              "    <tr style=\"text-align: right;\">\n",
              "      <th></th>\n",
              "      <th>Genre</th>\n",
              "      <th>Seed_Text</th>\n",
              "      <th>Generations_GPT2</th>\n",
              "      <th>BART_gen</th>\n",
              "      <th>2gram_gen</th>\n",
              "      <th>3gram_gen</th>\n",
              "    </tr>\n",
              "  </thead>\n",
              "  <tbody>\n",
              "    <tr>\n",
              "      <th>0</th>\n",
              "      <td>&lt;Action&gt;</td>\n",
              "      <td>The man went to the park</td>\n",
              "      <td>.\\n\\n PIKE\\n How'd you get out here?\\n\\n FATHE...</td>\n",
              "      <td>The man went to the park. The man then went to...</td>\n",
              "      <td>you took from the sofa staring at the plug...t...</td>\n",
              "      <td>i n - vehicles pulling in front of their elabo...</td>\n",
              "    </tr>\n",
              "    <tr>\n",
              "      <th>1</th>\n",
              "      <td>&lt;Comedy&gt;</td>\n",
              "      <td>The man went to the park</td>\n",
              "      <td>.\\n\\n PAUL\\n Turn around.\\n\\n FATHER\\n Stop it...</td>\n",
              "      <td>The man went to the park. The man then went to...</td>\n",
              "      <td>: JENNIFER I'm sorry . There's the whole body,...</td>\n",
              "      <td>on just one afternoon and if they only had eye...</td>\n",
              "    </tr>\n",
              "    <tr>\n",
              "      <th>2</th>\n",
              "      <td>&lt;Thriller&gt;</td>\n",
              "      <td>The man went to the park</td>\n",
              "      <td>.\\n\\n EXT. park--\\n\\n PINGER'S POLICE CAR--LAT...</td>\n",
              "      <td>The man went to the park. The man then went to...</td>\n",
              "      <td>blocks from him immediately . When one of bloo...</td>\n",
              "      <td>i n g beneath as he's been crudely hacked out ...</td>\n",
              "    </tr>\n",
              "    <tr>\n",
              "      <th>3</th>\n",
              "      <td>&lt;Horror&gt;</td>\n",
              "      <td>The man went to the park</td>\n",
              "      <td>, and I\\n got off.\\n \\n Reilly walks past Holl...</td>\n",
              "      <td>The man went to the park. The man then went to...</td>\n",
              "      <td>n roll that . SMALL APARTMENT BUILDING - NIGHT...</td>\n",
              "      <td>on just a WAITRESS and some of the trees! SCOT...</td>\n",
              "    </tr>\n",
              "    <tr>\n",
              "      <th>4</th>\n",
              "      <td>&lt;Romance&gt;</td>\n",
              "      <td>The man went to the park</td>\n",
              "      <td>.\\n\\n Ray waves dismissively.\\n\\n RAY\\n Then I...</td>\n",
              "      <td>The man went to the park. The man then went to...</td>\n",
              "      <td>now . JAVED O/S) No . But it was looking aroun...</td>\n",
              "      <td>, then hesitates to open death's icy hand can ...</td>\n",
              "    </tr>\n",
              "    <tr>\n",
              "      <th>...</th>\n",
              "      <td>...</td>\n",
              "      <td>...</td>\n",
              "      <td>...</td>\n",
              "      <td>...</td>\n",
              "      <td>...</td>\n",
              "      <td>...</td>\n",
              "    </tr>\n",
              "    <tr>\n",
              "      <th>135</th>\n",
              "      <td>&lt;Thriller&gt;</td>\n",
              "      <td>Frank feels their eyes on him as he begins to ...</td>\n",
              "      <td>\\n There is a brief silence as he moves to hi...</td>\n",
              "      <td>Frank feels their eyes on him as he begins to ...</td>\n",
              "      <td>GABRIELLA They rush into an instant . A BLUE S...</td>\n",
              "      <td>what kind of history? JACK Of course, another ...</td>\n",
              "    </tr>\n",
              "    <tr>\n",
              "      <th>136</th>\n",
              "      <td>&lt;Horror&gt;</td>\n",
              "      <td>Frank feels their eyes on him as he begins to ...</td>\n",
              "      <td>\\n \\n FURTHER ON\\n \\n as he looks at the watch...</td>\n",
              "      <td>Frank feels their eyes on him as he begins to ...</td>\n",
              "      <td>) Dr. Linsky here . GRENDEL Rizzo pull it on a...</td>\n",
              "      <td>the sand-cat . EXT . GASPARILLA STAY HERE AND ...</td>\n",
              "    </tr>\n",
              "    <tr>\n",
              "      <th>137</th>\n",
              "      <td>&lt;Romance&gt;</td>\n",
              "      <td>Frank feels their eyes on him as he begins to ...</td>\n",
              "      <td>\\n Dallas Buyers Club / Green Revision / Dec 2...</td>\n",
              "      <td>Frank feels their eyes on him as he begins to ...</td>\n",
              "      <td>facetious) Wait Steven has his eyes and the ti...</td>\n",
              "      <td>the glove . They start up the phone . He usual...</td>\n",
              "    </tr>\n",
              "    <tr>\n",
              "      <th>138</th>\n",
              "      <td>&lt;Sci-Fi&gt;</td>\n",
              "      <td>Frank feels their eyes on him as he begins to ...</td>\n",
              "      <td>\\n Dallas Buyers Club / Green Revision / Dec 2...</td>\n",
              "      <td>Frank feels their eyes on him as he begins to ...</td>\n",
              "      <td>station . Up a yellowish bright orange light S...</td>\n",
              "      <td>? JOHNNY Actually, he wears a small armory, Tr...</td>\n",
              "    </tr>\n",
              "    <tr>\n",
              "      <th>139</th>\n",
              "      <td>&lt;Fantasy&gt;</td>\n",
              "      <td>Frank feels their eyes on him as he begins to ...</td>\n",
              "      <td>\\n \\n FRANK\\n See? Now, I really don't want to...</td>\n",
              "      <td>Frank feels their eyes on him as he begins to ...</td>\n",
              "      <td>We're just being different? CONWAY And his eye...</td>\n",
              "      <td>Sit down, lower your defenses . Vader's center...</td>\n",
              "    </tr>\n",
              "  </tbody>\n",
              "</table>\n",
              "<p>140 rows × 6 columns</p>\n",
              "</div>"
            ],
            "text/plain": [
              "          Genre  ...                                          3gram_gen\n",
              "0      <Action>  ...  i n - vehicles pulling in front of their elabo...\n",
              "1      <Comedy>  ...  on just one afternoon and if they only had eye...\n",
              "2    <Thriller>  ...  i n g beneath as he's been crudely hacked out ...\n",
              "3      <Horror>  ...  on just a WAITRESS and some of the trees! SCOT...\n",
              "4     <Romance>  ...  , then hesitates to open death's icy hand can ...\n",
              "..          ...  ...                                                ...\n",
              "135  <Thriller>  ...  what kind of history? JACK Of course, another ...\n",
              "136    <Horror>  ...  the sand-cat . EXT . GASPARILLA STAY HERE AND ...\n",
              "137   <Romance>  ...  the glove . They start up the phone . He usual...\n",
              "138    <Sci-Fi>  ...  ? JOHNNY Actually, he wears a small armory, Tr...\n",
              "139   <Fantasy>  ...  Sit down, lower your defenses . Vader's center...\n",
              "\n",
              "[140 rows x 6 columns]"
            ]
          },
          "metadata": {
            "tags": []
          },
          "execution_count": 4
        }
      ]
    },
    {
      "cell_type": "code",
      "metadata": {
        "id": "YzCfjTFF16HA",
        "colab_type": "code",
        "colab": {}
      },
      "source": [
        "gpt_gen = df.iloc[:, 2].values.tolist()\n",
        "bart_gen = df.iloc[:, 3].values.tolist()\n",
        "bi_gen = df.iloc[:, 4].values.tolist()\n",
        "tri_gen = df.iloc[:, 5].values.tolist()"
      ],
      "execution_count": 0,
      "outputs": []
    },
    {
      "cell_type": "code",
      "metadata": {
        "colab_type": "code",
        "id": "xF59KeouyKhj",
        "colab": {}
      },
      "source": [
        "# Inference using saved fine-tuned model\n",
        "from fast_bert.prediction import BertClassificationPredictor\n",
        "\n",
        "MODEL_PATH = \"models/model_out_4/\"\n",
        "LABEL_PATH = \"data/\"\n",
        "\n",
        "predictor = BertClassificationPredictor(\n",
        "\t\t\t\tmodel_path=MODEL_PATH,\n",
        "\t\t\t\tlabel_path=LABEL_PATH, # location for labels.csv file\n",
        "\t\t\t\tmulti_label=True,\n",
        "\t\t\t\tmodel_type='bert',\n",
        "\t\t\t\tdo_lower_case=False)\n",
        "\n",
        "gpt_pred = predictor.predict_batch(gpt_gen)\n",
        "bard_pred = predictor.predict_batch(bart_gen)\n",
        "bi_pred = predictor.predict_batch(bi_gen)\n",
        "tri_pred = predictor.predict_batch(tri_gen)\n",
        "\n",
        "# # Single prediction\n",
        "# single_prediction = predictor.predict(\"just get me result for this text\")\n",
        "\n",
        "# # Batch predictions\n",
        "# texts = [\n",
        "# \t\"this is the first text\",\n",
        "# \t\"this is the second text\"\n",
        "# \t]\n",
        "\n",
        "# multiple_predictions = predictor.predict_batch(texts)\n"
      ],
      "execution_count": 0,
      "outputs": []
    },
    {
      "cell_type": "code",
      "metadata": {
        "id": "un-h-IXmmaSx",
        "colab_type": "code",
        "colab": {}
      },
      "source": [
        ""
      ],
      "execution_count": 0,
      "outputs": []
    },
    {
      "cell_type": "code",
      "metadata": {
        "id": "G2zNRXvjoYKq",
        "colab_type": "code",
        "outputId": "7fbcfd44-c92d-48ec-8e2d-0b25246746c5",
        "colab": {
          "base_uri": "https://localhost:8080/",
          "height": 54
        }
      },
      "source": [
        "print(bi_pred)"
      ],
      "execution_count": 0,
      "outputs": [
        {
          "output_type": "stream",
          "text": [
            "[[('Action', 0.9512056112289429), ('Adventure', 0.9470341801643372), ('Fantasy', 0.45823681354522705), ('Comedy', 0.3223428428173065), ('Sci-Fi', 0.31907835602760315), ('Thriller', 0.1256701648235321), ('Crime', 0.052951350808143616), ('Horror', 0.044540174305438995), ('Drama', 0.04276547580957413), ('Romance', 0.04145081713795662), ('Mystery', 0.032077912241220474)], [('Comedy', 0.9238592982292175), ('Drama', 0.2497091144323349), ('Adventure', 0.16362060606479645), ('Romance', 0.1495499163866043), ('Fantasy', 0.11264465749263763), ('Action', 0.06058504432439804), ('Sci-Fi', 0.02808377332985401), ('Horror', 0.018938448280096054), ('Crime', 0.018001550808548927), ('Mystery', 0.007300133351236582), ('Thriller', 0.005806987173855305)], [('Drama', 0.9575962424278259), ('Thriller', 0.4938738942146301), ('Crime', 0.3441929221153259), ('Action', 0.23025652766227722), ('Mystery', 0.2118643969297409), ('Romance', 0.033690325915813446), ('Sci-Fi', 0.027476079761981964), ('Horror', 0.027355153113603592), ('Comedy', 0.02665744349360466), ('Fantasy', 0.023073693737387657), ('Adventure', 0.013421024195849895)], [('Action', 0.8048161268234253), ('Thriller', 0.5361158847808838), ('Adventure', 0.40589606761932373), ('Drama', 0.3140275776386261), ('Sci-Fi', 0.23172424733638763), ('Horror', 0.1671609729528427), ('Mystery', 0.16267794370651245), ('Fantasy', 0.15404869616031647), ('Crime', 0.029392147436738014), ('Comedy', 0.021097075194120407), ('Romance', 0.018085896968841553)], [('Drama', 0.9362475872039795), ('Comedy', 0.26736921072006226), ('Romance', 0.21806658804416656), ('Crime', 0.19730044901371002), ('Fantasy', 0.03831705451011658), ('Mystery', 0.03425233066082001), ('Adventure', 0.02116040326654911), ('Action', 0.01956924796104431), ('Thriller', 0.01938459277153015), ('Horror', 0.01017636526376009), ('Sci-Fi', 0.004763604141771793)], [('Comedy', 0.8188281059265137), ('Action', 0.720367431640625), ('Sci-Fi', 0.41991564631462097), ('Adventure', 0.23839686810970306), ('Fantasy', 0.12804263830184937), ('Drama', 0.1048901379108429), ('Thriller', 0.09458431601524353), ('Horror', 0.052108410745859146), ('Crime', 0.04921187087893486), ('Romance', 0.039509184658527374), ('Mystery', 0.014402004890143871)], [('Adventure', 0.9079867601394653), ('Action', 0.8844624161720276), ('Comedy', 0.7585465908050537), ('Fantasy', 0.551177442073822), ('Sci-Fi', 0.22678832709789276), ('Horror', 0.05761381983757019), ('Romance', 0.05696280673146248), ('Crime', 0.04579433798789978), ('Thriller', 0.03055470809340477), ('Drama', 0.017820991575717926), ('Mystery', 0.013795942068099976)], [('Action', 0.8432022929191589), ('Crime', 0.6788603067398071), ('Drama', 0.5485225319862366), ('Thriller', 0.21467436850070953), ('Fantasy', 0.17247021198272705), ('Adventure', 0.11223666369915009), ('Horror', 0.11197055131196976), ('Mystery', 0.09838239848613739), ('Sci-Fi', 0.04482870548963547), ('Comedy', 0.03676620498299599), ('Romance', 0.03068910539150238)], [('Comedy', 0.9074883460998535), ('Action', 0.2894805669784546), ('Fantasy', 0.2856201231479645), ('Adventure', 0.19211387634277344), ('Drama', 0.12169192731380463), ('Sci-Fi', 0.09899283200502396), ('Romance', 0.08406636863946915), ('Crime', 0.06077827513217926), ('Horror', 0.05731995031237602), ('Thriller', 0.027861079201102257), ('Mystery', 0.024910932406783104)], [('Drama', 0.9301413297653198), ('Mystery', 0.24471600353717804), ('Thriller', 0.18275195360183716), ('Action', 0.1727306991815567), ('Crime', 0.14740389585494995), ('Fantasy', 0.09681250154972076), ('Horror', 0.08093015104532242), ('Sci-Fi', 0.07982024550437927), ('Adventure', 0.07957162708044052), ('Romance', 0.0389641597867012), ('Comedy', 0.011552185751497746)], [('Horror', 0.42618614435195923), ('Adventure', 0.41862478852272034), ('Action', 0.41451990604400635), ('Fantasy', 0.3840655982494354), ('Thriller', 0.31177574396133423), ('Mystery', 0.2571750283241272), ('Drama', 0.23904535174369812), ('Sci-Fi', 0.06465112417936325), ('Romance', 0.04362811893224716), ('Comedy', 0.02778906375169754), ('Crime', 0.023413097485899925)], [('Drama', 0.8579182624816895), ('Comedy', 0.8301488757133484), ('Romance', 0.6458183526992798), ('Fantasy', 0.08672550320625305), ('Adventure', 0.05632708966732025), ('Action', 0.04586707055568695), ('Crime', 0.04482439160346985), ('Mystery', 0.030884457752108574), ('Sci-Fi', 0.026807060465216637), ('Thriller', 0.02381504327058792), ('Horror', 0.012392810545861721)], [('Action', 0.9257176518440247), ('Sci-Fi', 0.9154413938522339), ('Adventure', 0.8343149423599243), ('Fantasy', 0.2680708169937134), ('Drama', 0.23814299702644348), ('Thriller', 0.14059175550937653), ('Horror', 0.12119559198617935), ('Comedy', 0.037208087742328644), ('Romance', 0.033648982644081116), ('Mystery', 0.03109305538237095), ('Crime', 0.014798526652157307)], [('Action', 0.8210762143135071), ('Fantasy', 0.48884713649749756), ('Adventure', 0.46945279836654663), ('Horror', 0.21416765451431274), ('Thriller', 0.21288728713989258), ('Mystery', 0.1818889081478119), ('Crime', 0.16991128027439117), ('Comedy', 0.09786771237850189), ('Drama', 0.07603195309638977), ('Sci-Fi', 0.05692058429121971), ('Romance', 0.0268314927816391)], [('Comedy', 0.8734869360923767), ('Crime', 0.43456026911735535), ('Drama', 0.38601499795913696), ('Action', 0.2738680839538574), ('Romance', 0.08040539920330048), ('Thriller', 0.07310695946216583), ('Fantasy', 0.048019446432590485), ('Adventure', 0.03950855880975723), ('Mystery', 0.022313851863145828), ('Sci-Fi', 0.014801997691392899), ('Horror', 0.009498778730630875)], [('Comedy', 0.5826515555381775), ('Fantasy', 0.46607449650764465), ('Adventure', 0.3214782774448395), ('Drama', 0.32092005014419556), ('Romance', 0.18009833991527557), ('Horror', 0.09916125237941742), ('Mystery', 0.09498327225446701), ('Action', 0.05839453265070915), ('Sci-Fi', 0.025305788964033127), ('Crime', 0.022957896813750267), ('Thriller', 0.014279887080192566)], [('Action', 0.9567968249320984), ('Drama', 0.8259699940681458), ('Crime', 0.7366203665733337), ('Thriller', 0.6912906765937805), ('Sci-Fi', 0.1436963528394699), ('Mystery', 0.11953790485858917), ('Adventure', 0.106015145778656), ('Fantasy', 0.05677567794919014), ('Horror', 0.04929576441645622), ('Romance', 0.02380143664777279), ('Comedy', 0.011739952489733696)], [('Thriller', 0.8027269840240479), ('Crime', 0.7030283808708191), ('Action', 0.6461164951324463), ('Comedy', 0.22968469560146332), ('Drama', 0.1680310219526291), ('Mystery', 0.1426311880350113), ('Horror', 0.10002698004245758), ('Fantasy', 0.036515042185783386), ('Sci-Fi', 0.02712216041982174), ('Adventure', 0.023973803967237473), ('Romance', 0.01466348860412836)], [('Drama', 0.8499084115028381), ('Comedy', 0.6033216118812561), ('Romance', 0.3262057900428772), ('Crime', 0.15160253643989563), ('Fantasy', 0.1067274734377861), ('Mystery', 0.08762610703706741), ('Adventure', 0.0378560945391655), ('Horror', 0.02192787453532219), ('Thriller', 0.016172586008906364), ('Action', 0.009580750949680805), ('Sci-Fi', 0.006935563869774342)], [('Action', 0.9703273177146912), ('Adventure', 0.8761667609214783), ('Sci-Fi', 0.8534854650497437), ('Fantasy', 0.3046647608280182), ('Comedy', 0.15680089592933655), ('Thriller', 0.11187101900577545), ('Drama', 0.09214319288730621), ('Horror', 0.0595211498439312), ('Romance', 0.030431965366005898), ('Crime', 0.01833261176943779), ('Mystery', 0.016336411237716675)], [('Action', 0.8775351047515869), ('Adventure', 0.671254575252533), ('Fantasy', 0.5102609395980835), ('Comedy', 0.5002967715263367), ('Sci-Fi', 0.1127190813422203), ('Horror', 0.08611561357975006), ('Crime', 0.06880524754524231), ('Romance', 0.03268502652645111), ('Drama', 0.029100913554430008), ('Thriller', 0.0272663701325655), ('Mystery', 0.012760334648191929)], [('Action', 0.9754667282104492), ('Adventure', 0.5773324370384216), ('Fantasy', 0.23279614746570587), ('Drama', 0.1841331422328949), ('Crime', 0.14395694434642792), ('Sci-Fi', 0.13916797935962677), ('Thriller', 0.09016742557287216), ('Horror', 0.05816283077001572), ('Comedy', 0.0546826496720314), ('Romance', 0.023432282730937004), ('Mystery', 0.018038434907794)], [('Action', 0.7412291765213013), ('Comedy', 0.6112493872642517), ('Crime', 0.48464152216911316), ('Drama', 0.29572615027427673), ('Thriller', 0.2862747311592102), ('Adventure', 0.08870243281126022), ('Fantasy', 0.055041152983903885), ('Romance', 0.050008468329906464), ('Mystery', 0.03683427721261978), ('Sci-Fi', 0.030421830713748932), ('Horror', 0.013343722559511662)], [('Action', 0.8192852735519409), ('Drama', 0.5165722370147705), ('Adventure', 0.2562911808490753), ('Thriller', 0.2122202068567276), ('Sci-Fi', 0.20523782074451447), ('Fantasy', 0.08310201019048691), ('Horror', 0.050478044897317886), ('Crime', 0.04698428884148598), ('Mystery', 0.04633120074868202), ('Comedy', 0.04009348899126053), ('Romance', 0.020631393417716026)], [('Action', 0.880225658416748), ('Comedy', 0.6134019494056702), ('Sci-Fi', 0.4838680922985077), ('Thriller', 0.27931421995162964), ('Horror', 0.22170782089233398), ('Fantasy', 0.18080301582813263), ('Adventure', 0.14507770538330078), ('Crime', 0.07641525566577911), ('Drama', 0.029329711571335793), ('Romance', 0.024666346609592438), ('Mystery', 0.01844838820397854)], [('Action', 0.8130083680152893), ('Comedy', 0.4297391474246979), ('Crime', 0.346513956785202), ('Thriller', 0.2448950558900833), ('Drama', 0.23973144590854645), ('Adventure', 0.08418771624565125), ('Fantasy', 0.040508367121219635), ('Sci-Fi', 0.03421352431178093), ('Romance', 0.023335091769695282), ('Horror', 0.017560966312885284), ('Mystery', 0.014998318627476692)], [('Action', 0.9862844944000244), ('Adventure', 0.7626405358314514), ('Sci-Fi', 0.6173628568649292), ('Fantasy', 0.26994121074676514), ('Drama', 0.13457158207893372), ('Thriller', 0.12300308793783188), ('Comedy', 0.08919074386358261), ('Horror', 0.058826591819524765), ('Crime', 0.037989284843206406), ('Romance', 0.02109747752547264), ('Mystery', 0.013402731157839298)], [('Adventure', 0.8626486659049988), ('Fantasy', 0.6747647523880005), ('Action', 0.5555134415626526), ('Comedy', 0.3949436545372009), ('Horror', 0.10994098335504532), ('Sci-Fi', 0.06939686834812164), ('Romance', 0.06426067650318146), ('Drama', 0.05504319816827774), ('Crime', 0.02964772842824459), ('Mystery', 0.0270416047424078), ('Thriller', 0.01776256039738655)], [('Action', 0.7847201824188232), ('Sci-Fi', 0.34791624546051025), ('Thriller', 0.22022779285907745), ('Adventure', 0.18778952956199646), ('Drama', 0.17923258244991302), ('Comedy', 0.15740284323692322), ('Horror', 0.1351943016052246), ('Fantasy', 0.13025768101215363), ('Mystery', 0.030651595443487167), ('Crime', 0.019972912967205048), ('Romance', 0.011196444742381573)], [('Comedy', 0.7559401988983154), ('Drama', 0.4620594382286072), ('Fantasy', 0.2323298156261444), ('Mystery', 0.2129131704568863), ('Horror', 0.18383921682834625), ('Romance', 0.17582446336746216), ('Crime', 0.17372143268585205), ('Thriller', 0.09421368688344955), ('Action', 0.03663894161581993), ('Sci-Fi', 0.027163207530975342), ('Adventure', 0.026032622903585434)], [('Crime', 0.6808204650878906), ('Thriller', 0.6393027901649475), ('Comedy', 0.6253154277801514), ('Action', 0.5259609222412109), ('Drama', 0.20616085827350616), ('Mystery', 0.09616125375032425), ('Romance', 0.048034150153398514), ('Adventure', 0.04270941764116287), ('Fantasy', 0.031192446127533913), ('Sci-Fi', 0.030311089009046555), ('Horror', 0.027091767638921738)], [('Thriller', 0.9151223301887512), ('Drama', 0.47012633085250854), ('Action', 0.2777109742164612), ('Crime', 0.2496848851442337), ('Mystery', 0.18374715745449066), ('Horror', 0.17692945897579193), ('Sci-Fi', 0.10858564078807831), ('Comedy', 0.05638231709599495), ('Adventure', 0.012745956890285015), ('Fantasy', 0.012682933360338211), ('Romance', 0.009333756752312183)], [('Comedy', 0.9844681620597839), ('Romance', 0.33854883909225464), ('Drama', 0.18052281439304352), ('Fantasy', 0.08923563361167908), ('Crime', 0.08917109668254852), ('Horror', 0.0456937775015831), ('Sci-Fi', 0.04200291633605957), ('Mystery', 0.03666456416249275), ('Thriller', 0.03551042079925537), ('Adventure', 0.03308820351958275), ('Action', 0.031726520508527756)], [('Action', 0.9147219061851501), ('Sci-Fi', 0.6159452795982361), ('Adventure', 0.5344395041465759), ('Fantasy', 0.383948415517807), ('Comedy', 0.3540934920310974), ('Horror', 0.24917826056480408), ('Thriller', 0.12963713705539703), ('Crime', 0.037426404654979706), ('Mystery', 0.0314563624560833), ('Drama', 0.030408674851059914), ('Romance', 0.01405502762645483)], [('Action', 0.9878320097923279), ('Adventure', 0.8088114857673645), ('Sci-Fi', 0.5753255486488342), ('Fantasy', 0.3337944447994232), ('Thriller', 0.27682074904441833), ('Drama', 0.16330580413341522), ('Crime', 0.11088934540748596), ('Horror', 0.0696227177977562), ('Mystery', 0.05977204814553261), ('Comedy', 0.058572251349687576), ('Romance', 0.026081044226884842)], [('Action', 0.9824802279472351), ('Adventure', 0.8142765164375305), ('Sci-Fi', 0.5928024649620056), ('Comedy', 0.5196985602378845), ('Fantasy', 0.34065359830856323), ('Thriller', 0.1857287436723709), ('Crime', 0.13013145327568054), ('Romance', 0.04775978997349739), ('Horror', 0.046289775520563126), ('Drama', 0.028867023065686226), ('Mystery', 0.01967809721827507)], [('Drama', 0.8553787469863892), ('Crime', 0.5345883965492249), ('Comedy', 0.4378122091293335), ('Romance', 0.12386992573738098), ('Mystery', 0.10963798314332962), ('Thriller', 0.09223856776952744), ('Fantasy', 0.03796521946787834), ('Action', 0.02793019451200962), ('Horror', 0.0186816044151783), ('Adventure', 0.00878139678388834), ('Sci-Fi', 0.004377184435725212)], [('Action', 0.9668328166007996), ('Thriller', 0.7048370838165283), ('Drama', 0.679205060005188), ('Crime', 0.46937236189842224), ('Sci-Fi', 0.2500721514225006), ('Adventure', 0.12122795730829239), ('Mystery', 0.05736752599477768), ('Fantasy', 0.033261045813560486), ('Horror', 0.03297168388962746), ('Comedy', 0.02397247403860092), ('Romance', 0.02199106104671955)], [('Drama', 0.4969530403614044), ('Adventure', 0.2759348750114441), ('Fantasy', 0.18571312725543976), ('Horror', 0.11670099943876266), ('Comedy', 0.09940172731876373), ('Romance', 0.08860041946172714), ('Mystery', 0.06893610209226608), ('Thriller', 0.040576670318841934), ('Action', 0.032746315002441406), ('Crime', 0.01846625842154026), ('Sci-Fi', 0.015197303146123886)], [('Comedy', 0.9406863451004028), ('Adventure', 0.4163189232349396), ('Fantasy', 0.3894481062889099), ('Romance', 0.335740864276886), ('Drama', 0.1854790598154068), ('Mystery', 0.09011455625295639), ('Action', 0.08359222114086151), ('Crime', 0.08096308261156082), ('Horror', 0.033929549157619476), ('Sci-Fi', 0.024143338203430176), ('Thriller', 0.013976197689771652)], [('Adventure', 0.7406807541847229), ('Action', 0.7200965881347656), ('Sci-Fi', 0.47480469942092896), ('Comedy', 0.4306938052177429), ('Fantasy', 0.3192014992237091), ('Drama', 0.06415987759828568), ('Horror', 0.06199006736278534), ('Romance', 0.028987610712647438), ('Thriller', 0.025067497044801712), ('Crime', 0.012912824749946594), ('Mystery', 0.011793493293225765)], [('Adventure', 0.9499815702438354), ('Action', 0.9061437845230103), ('Fantasy', 0.6253750324249268), ('Sci-Fi', 0.5314865112304688), ('Comedy', 0.211666077375412), ('Horror', 0.08198802173137665), ('Drama', 0.05879185348749161), ('Romance', 0.05758944898843765), ('Thriller', 0.03829478099942207), ('Mystery', 0.02615864761173725), ('Crime', 0.019273869693279266)], [('Action', 0.9858463406562805), ('Adventure', 0.8465128540992737), ('Fantasy', 0.4516403079032898), ('Sci-Fi', 0.4231986403465271), ('Comedy', 0.1493389755487442), ('Drama', 0.12046567350625992), ('Thriller', 0.0715286135673523), ('Crime', 0.06249677389860153), ('Horror', 0.05527764931321144), ('Romance', 0.04122614488005638), ('Mystery', 0.01736350543797016)], [('Drama', 0.850649893283844), ('Comedy', 0.3535129725933075), ('Romance', 0.19913770258426666), ('Fantasy', 0.08326578140258789), ('Adventure', 0.06129501387476921), ('Crime', 0.05834227427840233), ('Mystery', 0.03387129679322243), ('Horror', 0.018435947597026825), ('Action', 0.015228085219860077), ('Thriller', 0.012805206701159477), ('Sci-Fi', 0.0045021758414804935)], [('Drama', 0.6996899247169495), ('Thriller', 0.6392235159873962), ('Action', 0.3823716938495636), ('Crime', 0.37800437211990356), ('Comedy', 0.19951803982257843), ('Mystery', 0.11017724126577377), ('Sci-Fi', 0.049455445259809494), ('Horror', 0.026457905769348145), ('Romance', 0.02003874070942402), ('Adventure', 0.018797429278492928), ('Fantasy', 0.015634046867489815)], [('Action', 0.5167694091796875), ('Horror', 0.44131216406822205), ('Drama', 0.33264729380607605), ('Fantasy', 0.29964160919189453), ('Thriller', 0.1878591775894165), ('Mystery', 0.15032702684402466), ('Adventure', 0.12994800508022308), ('Sci-Fi', 0.08716665208339691), ('Crime', 0.059518083930015564), ('Romance', 0.02997908741235733), ('Comedy', 0.02908175252377987)], [('Comedy', 0.7565754055976868), ('Thriller', 0.33916032314300537), ('Drama', 0.3272343873977661), ('Crime', 0.22515976428985596), ('Mystery', 0.12342903017997742), ('Action', 0.10310269147157669), ('Horror', 0.07633684575557709), ('Romance', 0.04499845951795578), ('Fantasy', 0.04345320165157318), ('Sci-Fi', 0.028402913361787796), ('Adventure', 0.017640819773077965)], [('Action', 0.9631547927856445), ('Sci-Fi', 0.8826441168785095), ('Adventure', 0.8450456261634827), ('Drama', 0.20727334916591644), ('Fantasy', 0.19228018820285797), ('Thriller', 0.17036336660385132), ('Horror', 0.05178028345108032), ('Comedy', 0.04673195630311966), ('Romance', 0.025970755144953728), ('Mystery', 0.021531399339437485), ('Crime', 0.019738024100661278)], [('Adventure', 0.9095407724380493), ('Fantasy', 0.6349974274635315), ('Action', 0.5792441368103027), ('Comedy', 0.4590165317058563), ('Sci-Fi', 0.1237289234995842), ('Horror', 0.0675273984670639), ('Romance', 0.06600488722324371), ('Drama', 0.04601934924721718), ('Crime', 0.01995999366044998), ('Mystery', 0.013782486319541931), ('Thriller', 0.013281164690852165)], [('Sci-Fi', 0.7352598905563354), ('Action', 0.6780149936676025), ('Adventure', 0.6727492213249207), ('Comedy', 0.5081634521484375), ('Drama', 0.2053738236427307), ('Fantasy', 0.15009275078773499), ('Thriller', 0.06084585562348366), ('Romance', 0.0422477051615715), ('Horror', 0.021627003327012062), ('Crime', 0.014406250789761543), ('Mystery', 0.012922012247145176)], [('Drama', 0.9297078251838684), ('Crime', 0.7614785432815552), ('Mystery', 0.18529894948005676), ('Romance', 0.14936073124408722), ('Comedy', 0.13002797961235046), ('Thriller', 0.12786540389060974), ('Action', 0.07873637974262238), ('Fantasy', 0.07790303975343704), ('Horror', 0.03187297657132149), ('Adventure', 0.015118332579731941), ('Sci-Fi', 0.007070617750287056)], [('Drama', 0.9216855764389038), ('Crime', 0.8037973642349243), ('Thriller', 0.6694850921630859), ('Action', 0.5283588171005249), ('Mystery', 0.3063831031322479), ('Horror', 0.06535754352807999), ('Sci-Fi', 0.046979811042547226), ('Fantasy', 0.039073288440704346), ('Adventure', 0.024004913866519928), ('Romance', 0.02133389376103878), ('Comedy', 0.013661281205713749)], [('Thriller', 0.8030393719673157), ('Drama', 0.7854697704315186), ('Crime', 0.6021167635917664), ('Mystery', 0.32847142219543457), ('Action', 0.23317721486091614), ('Horror', 0.13562732934951782), ('Fantasy', 0.03207826614379883), ('Sci-Fi', 0.02541065774857998), ('Comedy', 0.014639857225120068), ('Romance', 0.013188757933676243), ('Adventure', 0.011879784986376762)], [('Comedy', 0.9818950295448303), ('Fantasy', 0.27386727929115295), ('Romance', 0.22225816547870636), ('Adventure', 0.19122108817100525), ('Action', 0.19049039483070374), ('Drama', 0.09079785645008087), ('Crime', 0.08591749519109726), ('Sci-Fi', 0.08075394481420517), ('Horror', 0.05751103162765503), ('Mystery', 0.031284622848033905), ('Thriller', 0.020753707736730576)], [('Action', 0.9728163480758667), ('Adventure', 0.8963516354560852), ('Sci-Fi', 0.7082312703132629), ('Fantasy', 0.6640807390213013), ('Horror', 0.2075970470905304), ('Comedy', 0.1834438294172287), ('Thriller', 0.09684738516807556), ('Crime', 0.03820386528968811), ('Mystery', 0.035215429961681366), ('Romance', 0.029331693425774574), ('Drama', 0.027003223076462746)], [('Action', 0.9692561030387878), ('Adventure', 0.9098283052444458), ('Fantasy', 0.5834602117538452), ('Sci-Fi', 0.22705616056919098), ('Comedy', 0.14776793122291565), ('Drama', 0.09702003002166748), ('Crime', 0.06446994841098785), ('Horror', 0.059985071420669556), ('Romance', 0.05187464505434036), ('Thriller', 0.04359503462910652), ('Mystery', 0.023717334493994713)], [('Action', 0.9057894945144653), ('Sci-Fi', 0.7523425817489624), ('Adventure', 0.6489699482917786), ('Drama', 0.6068125367164612), ('Thriller', 0.36632004380226135), ('Fantasy', 0.2144455760717392), ('Horror', 0.11421382427215576), ('Mystery', 0.08386162668466568), ('Romance', 0.027365513145923615), ('Comedy', 0.01953260228037834), ('Crime', 0.01812341809272766)], [('Drama', 0.894943118095398), ('Comedy', 0.7353650331497192), ('Romance', 0.4677537679672241), ('Fantasy', 0.0817355215549469), ('Adventure', 0.07275275886058807), ('Crime', 0.04759909212589264), ('Mystery', 0.035870958119630814), ('Action', 0.025454847142100334), ('Sci-Fi', 0.016388913616538048), ('Thriller', 0.011717102490365505), ('Horror', 0.0073303841054439545)], [('Drama', 0.8945459127426147), ('Crime', 0.8356999158859253), ('Thriller', 0.7631670236587524), ('Action', 0.41776734590530396), ('Mystery', 0.26348501443862915), ('Comedy', 0.05443720147013664), ('Romance', 0.03826518356800079), ('Adventure', 0.03145964816212654), ('Sci-Fi', 0.01970801129937172), ('Fantasy', 0.019495772197842598), ('Horror', 0.014210296794772148)], [('Comedy', 0.611197829246521), ('Thriller', 0.5286986827850342), ('Action', 0.2068488895893097), ('Horror', 0.17566563189029694), ('Mystery', 0.16300341486930847), ('Drama', 0.1590227484703064), ('Sci-Fi', 0.0810905322432518), ('Fantasy', 0.07302286475896835), ('Crime', 0.07150766998529434), ('Romance', 0.06880027055740356), ('Adventure', 0.036179449409246445)], [('Drama', 0.9552807807922363), ('Romance', 0.6175488829612732), ('Mystery', 0.35969895124435425), ('Fantasy', 0.19229257106781006), ('Horror', 0.14622072875499725), ('Thriller', 0.1082267314195633), ('Adventure', 0.07895022630691528), ('Crime', 0.055047255009412766), ('Comedy', 0.039846837520599365), ('Sci-Fi', 0.02707652375102043), ('Action', 0.012836432084441185)], [('Thriller', 0.950286865234375), ('Action', 0.8681746125221252), ('Crime', 0.6962175369262695), ('Drama', 0.45734402537345886), ('Mystery', 0.44286051392555237), ('Sci-Fi', 0.41778773069381714), ('Horror', 0.20180679857730865), ('Fantasy', 0.05830369144678116), ('Adventure', 0.03794911131262779), ('Comedy', 0.03206958621740341), ('Romance', 0.018867868930101395)], [('Adventure', 0.9094260931015015), ('Action', 0.8359745740890503), ('Fantasy', 0.7518565654754639), ('Drama', 0.1663396805524826), ('Comedy', 0.1417016088962555), ('Romance', 0.1266246885061264), ('Horror', 0.1134040430188179), ('Sci-Fi', 0.09483558684587479), ('Mystery', 0.06301360577344894), ('Thriller', 0.037762388586997986), ('Crime', 0.0317138135433197)], [('Action', 0.9861775636672974), ('Adventure', 0.5010283589363098), ('Drama', 0.4886464476585388), ('Crime', 0.2581935226917267), ('Sci-Fi', 0.18733812868595123), ('Thriller', 0.16895708441734314), ('Fantasy', 0.15887050330638885), ('Comedy', 0.11749658733606339), ('Romance', 0.04703047126531601), ('Horror', 0.024584965780377388), ('Mystery', 0.02303442172706127)], [('Comedy', 0.9064149260520935), ('Adventure', 0.28203079104423523), ('Drama', 0.2789385914802551), ('Fantasy', 0.15296286344528198), ('Sci-Fi', 0.12689369916915894), ('Action', 0.1244652271270752), ('Romance', 0.0977235957980156), ('Horror', 0.03203694149851799), ('Mystery', 0.02619178779423237), ('Crime', 0.02413865365087986), ('Thriller', 0.02090642973780632)], [('Action', 0.9238351583480835), ('Thriller', 0.7369835376739502), ('Crime', 0.34956711530685425), ('Drama', 0.33689501881599426), ('Sci-Fi', 0.25901028513908386), ('Comedy', 0.2489280104637146), ('Adventure', 0.1674589365720749), ('Mystery', 0.07641144841909409), ('Fantasy', 0.03891299292445183), ('Horror', 0.029473338276147842), ('Romance', 0.02544558420777321)], [('Drama', 0.8287831544876099), ('Action', 0.4860759973526001), ('Thriller', 0.20698146522045135), ('Crime', 0.16108466684818268), ('Mystery', 0.11246626079082489), ('Horror', 0.07037149369716644), ('Adventure', 0.07001546770334244), ('Fantasy', 0.06596741825342178), ('Sci-Fi', 0.046922434121370316), ('Romance', 0.01775830239057541), ('Comedy', 0.009025020524859428)], [('Drama', 0.9776665568351746), ('Romance', 0.17516010999679565), ('Crime', 0.0540362149477005), ('Action', 0.04967094585299492), ('Fantasy', 0.03483615443110466), ('Adventure', 0.03482110798358917), ('Mystery', 0.0337609127163887), ('Comedy', 0.03350632265210152), ('Thriller', 0.030304444953799248), ('Sci-Fi', 0.013039560988545418), ('Horror', 0.011455370113253593)], [('Action', 0.9601115584373474), ('Thriller', 0.7474782466888428), ('Sci-Fi', 0.4957221448421478), ('Horror', 0.3585415184497833), ('Drama', 0.2716011106967926), ('Adventure', 0.18044786155223846), ('Fantasy', 0.17995168268680573), ('Crime', 0.15562961995601654), ('Mystery', 0.13298353552818298), ('Comedy', 0.016590572893619537), ('Romance', 0.01253468170762062)], [('Adventure', 0.9084107279777527), ('Action', 0.7239124178886414), ('Fantasy', 0.5878779292106628), ('Comedy', 0.4784869849681854), ('Drama', 0.1318044513463974), ('Romance', 0.11171791702508926), ('Sci-Fi', 0.07918035238981247), ('Horror', 0.036103054881095886), ('Mystery', 0.024824969470500946), ('Crime', 0.024821849539875984), ('Thriller', 0.012376445345580578)], [('Action', 0.9546884894371033), ('Thriller', 0.46322640776634216), ('Adventure', 0.4345780909061432), ('Drama', 0.42437654733657837), ('Sci-Fi', 0.393993616104126), ('Comedy', 0.05840112641453743), ('Crime', 0.0565943643450737), ('Fantasy', 0.046100471168756485), ('Horror', 0.030240586027503014), ('Mystery', 0.020362308248877525), ('Romance', 0.010904605500400066)], [('Drama', 0.9397861361503601), ('Thriller', 0.2974928915500641), ('Crime', 0.2190883755683899), ('Action', 0.0966099351644516), ('Mystery', 0.05566150322556496), ('Horror', 0.021546073257923126), ('Romance', 0.01818321831524372), ('Sci-Fi', 0.017951123416423798), ('Comedy', 0.01442061085253954), ('Adventure', 0.012507809326052666), ('Fantasy', 0.012132737785577774)], [('Action', 0.8134002089500427), ('Thriller', 0.7903804183006287), ('Crime', 0.4430232048034668), ('Comedy', 0.3363678753376007), ('Drama', 0.21678879857063293), ('Sci-Fi', 0.1355084627866745), ('Mystery', 0.10731557011604309), ('Adventure', 0.04855223000049591), ('Horror', 0.04672597721219063), ('Fantasy', 0.031030060723423958), ('Romance', 0.016515223309397697)], [('Horror', 0.8280459642410278), ('Thriller', 0.5829079151153564), ('Fantasy', 0.3904293477535248), ('Mystery', 0.38753753900527954), ('Comedy', 0.3594140112400055), ('Action', 0.20725205540657043), ('Crime', 0.13639943301677704), ('Sci-Fi', 0.09397256374359131), ('Adventure', 0.06621528416872025), ('Romance', 0.043854422867298126), ('Drama', 0.04303061589598656)], [('Comedy', 0.9652642607688904), ('Romance', 0.502316415309906), ('Drama', 0.41529008746147156), ('Crime', 0.28990522027015686), ('Fantasy', 0.1613728553056717), ('Mystery', 0.08857860416173935), ('Adventure', 0.05534983053803444), ('Action', 0.03624991327524185), ('Thriller', 0.026398954913020134), ('Horror', 0.022459503263235092), ('Sci-Fi', 0.011310569941997528)], [('Action', 0.8812490701675415), ('Sci-Fi', 0.6577221751213074), ('Adventure', 0.6346369981765747), ('Fantasy', 0.2928953468799591), ('Drama', 0.2913695275783539), ('Horror', 0.2473028302192688), ('Thriller', 0.19666463136672974), ('Mystery', 0.06007709354162216), ('Crime', 0.023388424888253212), ('Comedy', 0.016473697498440742), ('Romance', 0.013681355863809586)], [('Drama', 0.7547704577445984), ('Adventure', 0.3726174533367157), ('Fantasy', 0.30214086174964905), ('Romance', 0.16357222199440002), ('Comedy', 0.10580737888813019), ('Action', 0.0637223944067955), ('Horror', 0.053164005279541016), ('Mystery', 0.03840044513344765), ('Crime', 0.02175900526344776), ('Sci-Fi', 0.01944257877767086), ('Thriller', 0.010877196677029133)], [('Drama', 0.9455916285514832), ('Crime', 0.1255941390991211), ('Action', 0.12143637239933014), ('Comedy', 0.0897219106554985), ('Romance', 0.06985471397638321), ('Adventure', 0.055979859083890915), ('Fantasy', 0.03546570613980293), ('Thriller', 0.018298501148819923), ('Mystery', 0.01723914034664631), ('Sci-Fi', 0.009937675669789314), ('Horror', 0.007420069072395563)], [('Crime', 0.736293375492096), ('Comedy', 0.7146562337875366), ('Drama', 0.5567787289619446), ('Action', 0.33899903297424316), ('Romance', 0.15088549256324768), ('Thriller', 0.1350937783718109), ('Mystery', 0.13395893573760986), ('Fantasy', 0.12832023203372955), ('Adventure', 0.070646733045578), ('Sci-Fi', 0.020259281620383263), ('Horror', 0.01676851511001587)], [('Action', 0.89781653881073), ('Drama', 0.6763724088668823), ('Thriller', 0.4911072552204132), ('Sci-Fi', 0.46679043769836426), ('Horror', 0.22707223892211914), ('Fantasy', 0.16669893264770508), ('Adventure', 0.15679776668548584), ('Mystery', 0.09328081458806992), ('Crime', 0.06870567798614502), ('Romance', 0.02265523187816143), ('Comedy', 0.015074857510626316)], [('Horror', 0.5215784907341003), ('Action', 0.3170298635959625), ('Fantasy', 0.30080363154411316), ('Mystery', 0.29476115107536316), ('Thriller', 0.28865936398506165), ('Drama', 0.2242012470960617), ('Crime', 0.17734728753566742), ('Comedy', 0.09580344706773758), ('Adventure', 0.0737139955163002), ('Sci-Fi', 0.057858455926179886), ('Romance', 0.031584542244672775)], [('Drama', 0.9764198064804077), ('Romance', 0.7283031344413757), ('Comedy', 0.5046086311340332), ('Crime', 0.058824267238378525), ('Fantasy', 0.047986872494220734), ('Mystery', 0.035335276275873184), ('Adventure', 0.03418225422501564), ('Thriller', 0.022594090551137924), ('Action', 0.014608791097998619), ('Sci-Fi', 0.014532198198139668), ('Horror', 0.009299090132117271)], [('Action', 0.9803624749183655), ('Adventure', 0.8297602534294128), ('Sci-Fi', 0.5501901507377625), ('Drama', 0.2578487694263458), ('Fantasy', 0.20224633812904358), ('Thriller', 0.07254549115896225), ('Comedy', 0.04314258694648743), ('Horror', 0.03877042606472969), ('Romance', 0.028046488761901855), ('Crime', 0.024928387254476547), ('Mystery', 0.011597821488976479)], [('Action', 0.9323504567146301), ('Adventure', 0.8310408592224121), ('Fantasy', 0.5080614686012268), ('Comedy', 0.22862985730171204), ('Crime', 0.0782967358827591), ('Sci-Fi', 0.0712641030550003), ('Horror', 0.06550315767526627), ('Drama', 0.0635305866599083), ('Thriller', 0.035674262791872025), ('Romance', 0.033890500664711), ('Mystery', 0.021499639376997948)], [('Action', 0.9749811291694641), ('Crime', 0.4414629638195038), ('Drama', 0.4118998050689697), ('Thriller', 0.3057958483695984), ('Adventure', 0.21883580088615417), ('Sci-Fi', 0.12745974957942963), ('Comedy', 0.07937435060739517), ('Fantasy', 0.056798458099365234), ('Horror', 0.02559695951640606), ('Mystery', 0.0221317857503891), ('Romance', 0.021797198802232742)], [('Comedy', 0.8804076910018921), ('Drama', 0.6348186135292053), ('Romance', 0.29062941670417786), ('Action', 0.1192178726196289), ('Fantasy', 0.10523305088281631), ('Adventure', 0.07371499389410019), ('Crime', 0.05441572517156601), ('Sci-Fi', 0.05162539705634117), ('Mystery', 0.01824096404016018), ('Thriller', 0.015122920274734497), ('Horror', 0.01216120831668377)], [('Drama', 0.920697033405304), ('Crime', 0.683493971824646), ('Thriller', 0.4769476056098938), ('Action', 0.1315566450357437), ('Mystery', 0.09420962631702423), ('Comedy', 0.0478244312107563), ('Romance', 0.030096523463726044), ('Adventure', 0.011696459725499153), ('Fantasy', 0.009275415912270546), ('Horror', 0.009242352098226547), ('Sci-Fi', 0.00657080439850688)], [('Thriller', 0.8961780071258545), ('Drama', 0.5650596618652344), ('Mystery', 0.5556483864784241), ('Action', 0.21395908296108246), ('Crime', 0.2082471400499344), ('Horror', 0.19146350026130676), ('Adventure', 0.06041516363620758), ('Sci-Fi', 0.05283128470182419), ('Fantasy', 0.037584807723760605), ('Comedy', 0.015776008367538452), ('Romance', 0.014904165640473366)], [('Drama', 0.9593364596366882), ('Romance', 0.39957723021507263), ('Comedy', 0.36770594120025635), ('Crime', 0.31595587730407715), ('Thriller', 0.058206621557474136), ('Mystery', 0.05553151294589043), ('Fantasy', 0.020868372172117233), ('Horror', 0.012074807658791542), ('Adventure', 0.007828527130186558), ('Action', 0.007555413991212845), ('Sci-Fi', 0.0029037264175713062)], [('Action', 0.9848164916038513), ('Adventure', 0.8463920950889587), ('Sci-Fi', 0.45562756061553955), ('Fantasy', 0.3767463266849518), ('Thriller', 0.0919235572218895), ('Comedy', 0.08372242748737335), ('Drama', 0.07644715160131454), ('Horror', 0.0761251375079155), ('Crime', 0.05722758546471596), ('Romance', 0.025122426450252533), ('Mystery', 0.013671011663973331)], [('Action', 0.8124003410339355), ('Adventure', 0.5636193156242371), ('Fantasy', 0.4445478916168213), ('Horror', 0.2460193932056427), ('Drama', 0.23417362570762634), ('Sci-Fi', 0.13903480768203735), ('Thriller', 0.05335796996951103), ('Romance', 0.04112154245376587), ('Mystery', 0.03454684838652611), ('Comedy', 0.03322269022464752), ('Crime', 0.027772504836320877)], [('Action', 0.8866760730743408), ('Comedy', 0.7168335914611816), ('Thriller', 0.2412654608488083), ('Crime', 0.19653534889221191), ('Sci-Fi', 0.18309035897254944), ('Adventure', 0.16540345549583435), ('Fantasy', 0.11961580067873001), ('Drama', 0.07756199687719345), ('Horror', 0.06565392762422562), ('Romance', 0.021714957430958748), ('Mystery', 0.020145997405052185)], [('Comedy', 0.8838489055633545), ('Drama', 0.641828179359436), ('Crime', 0.6243155002593994), ('Romance', 0.2990504801273346), ('Action', 0.06585800647735596), ('Thriller', 0.04287857189774513), ('Fantasy', 0.041395485401153564), ('Mystery', 0.03445127233862877), ('Adventure', 0.02494034729897976), ('Horror', 0.008711005561053753), ('Sci-Fi', 0.005259295459836721)], [('Action', 0.9376243352890015), ('Thriller', 0.781145453453064), ('Drama', 0.7405264377593994), ('Sci-Fi', 0.544429361820221), ('Crime', 0.43073445558547974), ('Mystery', 0.22052407264709473), ('Horror', 0.10971054434776306), ('Adventure', 0.09258963912725449), ('Fantasy', 0.07437384128570557), ('Comedy', 0.021434085443615913), ('Romance', 0.015785368159413338)], [('Sci-Fi', 0.7641122341156006), ('Action', 0.6919023990631104), ('Thriller', 0.6239058971405029), ('Horror', 0.6156997084617615), ('Adventure', 0.49067023396492004), ('Fantasy', 0.3279760777950287), ('Mystery', 0.22929126024246216), ('Drama', 0.07844604551792145), ('Comedy', 0.054238270968198776), ('Romance', 0.025471774861216545), ('Crime', 0.01893898844718933)], [('Comedy', 0.7063810229301453), ('Drama', 0.560075581073761), ('Crime', 0.3910495936870575), ('Romance', 0.17338696122169495), ('Fantasy', 0.11141940206289291), ('Mystery', 0.08921802043914795), ('Action', 0.05130791664123535), ('Thriller', 0.036637961864471436), ('Horror', 0.029611483216285706), ('Adventure', 0.02881934680044651), ('Sci-Fi', 0.007276632357388735)], [('Action', 0.9100621342658997), ('Sci-Fi', 0.9081717133522034), ('Thriller', 0.5804714560508728), ('Adventure', 0.23373930156230927), ('Drama', 0.22852569818496704), ('Horror', 0.19253294169902802), ('Fantasy', 0.14156337082386017), ('Mystery', 0.10211420059204102), ('Comedy', 0.07800594717264175), ('Crime', 0.060328710824251175), ('Romance', 0.016230784356594086)], [('Adventure', 0.8652529120445251), ('Comedy', 0.6885446310043335), ('Fantasy', 0.6865427494049072), ('Action', 0.6841485500335693), ('Horror', 0.1172744408249855), ('Sci-Fi', 0.10954739153385162), ('Romance', 0.07076869159936905), ('Crime', 0.03482120484113693), ('Drama', 0.027411222457885742), ('Mystery', 0.02022513560950756), ('Thriller', 0.014621494337916374)], [('Action', 0.867940366268158), ('Thriller', 0.8558607697486877), ('Sci-Fi', 0.7604115605354309), ('Drama', 0.5841006636619568), ('Horror', 0.28716227412223816), ('Mystery', 0.21469324827194214), ('Adventure', 0.10015732795000076), ('Crime', 0.08047700673341751), ('Fantasy', 0.0782962441444397), ('Comedy', 0.018689299002289772), ('Romance', 0.01785840466618538)], [('Comedy', 0.9574725031852722), ('Drama', 0.2521592378616333), ('Romance', 0.17984411120414734), ('Crime', 0.05770412087440491), ('Adventure', 0.05669974163174629), ('Fantasy', 0.05353681370615959), ('Action', 0.03367091342806816), ('Thriller', 0.022109515964984894), ('Mystery', 0.01889856718480587), ('Sci-Fi', 0.01470585074275732), ('Horror', 0.011621064506471157)], [('Drama', 0.9628860354423523), ('Thriller', 0.306132972240448), ('Crime', 0.10875462740659714), ('Mystery', 0.08736342191696167), ('Action', 0.05515868216753006), ('Romance', 0.04628211259841919), ('Comedy', 0.021914904937148094), ('Adventure', 0.020041877403855324), ('Horror', 0.0185423381626606), ('Sci-Fi', 0.0167414378374815), ('Fantasy', 0.0151141956448555)], [('Drama', 0.8020943999290466), ('Thriller', 0.4267881512641907), ('Mystery', 0.2521651089191437), ('Horror', 0.22278577089309692), ('Crime', 0.1533908247947693), ('Fantasy', 0.07835174351930618), ('Action', 0.07290766388177872), ('Romance', 0.04701567813754082), ('Sci-Fi', 0.026979617774486542), ('Comedy', 0.026491474360227585), ('Adventure', 0.009547009132802486)], [('Comedy', 0.8995734453201294), ('Romance', 0.6101735234260559), ('Drama', 0.33323484659194946), ('Fantasy', 0.17536959052085876), ('Adventure', 0.09592301398515701), ('Mystery', 0.08048884570598602), ('Crime', 0.07207314670085907), ('Horror', 0.028966108337044716), ('Thriller', 0.01713510975241661), ('Action', 0.011927153915166855), ('Sci-Fi', 0.009732910431921482)], [('Thriller', 0.9215429425239563), ('Action', 0.904684841632843), ('Sci-Fi', 0.5326696634292603), ('Adventure', 0.4832104742527008), ('Mystery', 0.422844260931015), ('Drama', 0.33371180295944214), ('Crime', 0.1591946929693222), ('Horror', 0.1313243955373764), ('Fantasy', 0.10045158118009567), ('Comedy', 0.020700465887784958), ('Romance', 0.013499983586370945)], [('Adventure', 0.9223116636276245), ('Action', 0.8355540037155151), ('Fantasy', 0.4889026880264282), ('Comedy', 0.44947579503059387), ('Sci-Fi', 0.14629368484020233), ('Drama', 0.13402506709098816), ('Romance', 0.08688544481992722), ('Horror', 0.027623021975159645), ('Crime', 0.024501075968146324), ('Mystery', 0.012503410689532757), ('Thriller', 0.01158710103482008)], [('Action', 0.9795715808868408), ('Drama', 0.8163321614265442), ('Adventure', 0.5954536199569702), ('Sci-Fi', 0.47335147857666016), ('Thriller', 0.35395386815071106), ('Crime', 0.1500800997018814), ('Fantasy', 0.0732932761311531), ('Mystery', 0.04157742112874985), ('Romance', 0.03934645280241966), ('Horror', 0.02323017083108425), ('Comedy', 0.019776277244091034)], [('Comedy', 0.9021167755126953), ('Drama', 0.5109921097755432), ('Romance', 0.1624189168214798), ('Adventure', 0.1007508635520935), ('Fantasy', 0.0679287239909172), ('Action', 0.05394808575510979), ('Sci-Fi', 0.038095153868198395), ('Crime', 0.024804070591926575), ('Thriller', 0.01644565351307392), ('Mystery', 0.013101859949529171), ('Horror', 0.011561021208763123)], [('Drama', 0.7416141033172607), ('Thriller', 0.558796226978302), ('Crime', 0.5121417045593262), ('Action', 0.24666166305541992), ('Mystery', 0.237481489777565), ('Comedy', 0.06211092323064804), ('Adventure', 0.033002909272909164), ('Fantasy', 0.03137596696615219), ('Romance', 0.03084617480635643), ('Horror', 0.023471087217330933), ('Sci-Fi', 0.011681987904012203)], [('Sci-Fi', 0.9133846759796143), ('Action', 0.5613265037536621), ('Adventure', 0.4191949665546417), ('Horror', 0.29468393325805664), ('Thriller', 0.2835683822631836), ('Fantasy', 0.19251126050949097), ('Drama', 0.1687808483839035), ('Comedy', 0.08938825130462646), ('Mystery', 0.05987473949790001), ('Romance', 0.04630962386727333), ('Crime', 0.0084612388163805)], [('Drama', 0.8593553304672241), ('Comedy', 0.234968900680542), ('Crime', 0.22508619725704193), ('Action', 0.11199334263801575), ('Fantasy', 0.06617457419633865), ('Romance', 0.06075345724821091), ('Adventure', 0.05628877878189087), ('Mystery', 0.04726029932498932), ('Thriller', 0.02545420452952385), ('Horror', 0.008798466995358467), ('Sci-Fi', 0.006880986969918013)], [('Action', 0.9553957581520081), ('Sci-Fi', 0.7929221391677856), ('Adventure', 0.7803993821144104), ('Drama', 0.612126886844635), ('Thriller', 0.3363110423088074), ('Fantasy', 0.0812082514166832), ('Horror', 0.044021740555763245), ('Romance', 0.030757401138544083), ('Mystery', 0.03038031980395317), ('Crime', 0.014679737389087677), ('Comedy', 0.01380776148289442)], [('Action', 0.9465228319168091), ('Adventure', 0.8902706503868103), ('Fantasy', 0.6256893873214722), ('Sci-Fi', 0.15935595333576202), ('Comedy', 0.15506447851657867), ('Horror', 0.1024017482995987), ('Drama', 0.06321012228727341), ('Romance', 0.04937014356255531), ('Crime', 0.04255697876214981), ('Thriller', 0.033846594393253326), ('Mystery', 0.01740090548992157)], [('Action', 0.9803115129470825), ('Adventure', 0.8329665660858154), ('Fantasy', 0.41715580224990845), ('Thriller', 0.4063214957714081), ('Sci-Fi', 0.20884382724761963), ('Crime', 0.1244349479675293), ('Drama', 0.11644433438777924), ('Horror', 0.10778569430112839), ('Mystery', 0.09358030557632446), ('Comedy', 0.04181439056992531), ('Romance', 0.020911963656544685)], [('Crime', 0.9714823365211487), ('Thriller', 0.9365191459655762), ('Action', 0.5713619589805603), ('Mystery', 0.5245606303215027), ('Drama', 0.4815504550933838), ('Comedy', 0.14254477620124817), ('Horror', 0.0931944027543068), ('Fantasy', 0.0584261380136013), ('Romance', 0.055211249738931656), ('Adventure', 0.03289734199643135), ('Sci-Fi', 0.027377460151910782)], [('Action', 0.8902696967124939), ('Thriller', 0.7364517450332642), ('Drama', 0.43854820728302), ('Sci-Fi', 0.15455900132656097), ('Adventure', 0.15028506517410278), ('Crime', 0.13837355375289917), ('Horror', 0.08841761201620102), ('Mystery', 0.07195448130369186), ('Fantasy', 0.042553286999464035), ('Comedy', 0.007487700320780277), ('Romance', 0.0052927639335393906)], [('Action', 0.8440418839454651), ('Crime', 0.5872485637664795), ('Thriller', 0.5543224215507507), ('Drama', 0.41825002431869507), ('Mystery', 0.14183612167835236), ('Horror', 0.13991862535476685), ('Fantasy', 0.11835239827632904), ('Sci-Fi', 0.09689869731664658), ('Adventure', 0.07577745616436005), ('Comedy', 0.05000276491045952), ('Romance', 0.011770847253501415)], [('Drama', 0.9801445007324219), ('Crime', 0.3191578686237335), ('Romance', 0.1603488177061081), ('Action', 0.12475995719432831), ('Mystery', 0.10457853227853775), ('Fantasy', 0.06306169182062149), ('Thriller', 0.06305617094039917), ('Adventure', 0.06000706925988197), ('Comedy', 0.02313239499926567), ('Horror', 0.017178358510136604), ('Sci-Fi', 0.012990974821150303)], [('Action', 0.9184103608131409), ('Sci-Fi', 0.8228695392608643), ('Adventure', 0.7084561586380005), ('Drama', 0.2583048343658447), ('Comedy', 0.18572157621383667), ('Thriller', 0.17195498943328857), ('Romance', 0.06349021941423416), ('Fantasy', 0.05506623163819313), ('Crime', 0.019716529175639153), ('Horror', 0.014137391932308674), ('Mystery', 0.007620918098837137)], [('Adventure', 0.8953582644462585), ('Action', 0.6829701662063599), ('Fantasy', 0.6169543266296387), ('Comedy', 0.29921016097068787), ('Drama', 0.14758634567260742), ('Romance', 0.07514280825853348), ('Horror', 0.04984864965081215), ('Crime', 0.04227928817272186), ('Sci-Fi', 0.04087446630001068), ('Mystery', 0.01735682785511017), ('Thriller', 0.010391363874077797)], [('Action', 0.9728192687034607), ('Thriller', 0.817031979560852), ('Sci-Fi', 0.3945491909980774), ('Horror', 0.23524603247642517), ('Crime', 0.19597457349300385), ('Adventure', 0.13942763209342957), ('Fantasy', 0.10223402827978134), ('Drama', 0.09693446010351181), ('Mystery', 0.0706111490726471), ('Comedy', 0.06937412172555923), ('Romance', 0.014346763491630554)], [('Action', 0.8957706093788147), ('Crime', 0.7705843448638916), ('Drama', 0.6446465849876404), ('Thriller', 0.4744746685028076), ('Comedy', 0.15301185846328735), ('Mystery', 0.10242478549480438), ('Adventure', 0.08206886798143387), ('Fantasy', 0.0608169250190258), ('Sci-Fi', 0.05507531017065048), ('Romance', 0.03590516000986099), ('Horror', 0.021098319441080093)], [('Action', 0.8883075714111328), ('Thriller', 0.7138630747795105), ('Drama', 0.40333887934684753), ('Mystery', 0.37820225954055786), ('Crime', 0.2760940194129944), ('Adventure', 0.2716158330440521), ('Sci-Fi', 0.21651692688465118), ('Horror', 0.1719309538602829), ('Fantasy', 0.14423617720603943), ('Comedy', 0.016482345759868622), ('Romance', 0.009251661598682404)], [('Drama', 0.7176046967506409), ('Action', 0.6295639872550964), ('Thriller', 0.30651527643203735), ('Sci-Fi', 0.24542422592639923), ('Fantasy', 0.1520589143037796), ('Adventure', 0.1317092329263687), ('Mystery', 0.13129399716854095), ('Comedy', 0.1060328483581543), ('Horror', 0.08548661321401596), ('Romance', 0.06974078714847565), ('Crime', 0.05711498111486435)], [('Comedy', 0.9082115888595581), ('Romance', 0.515221893787384), ('Drama', 0.48881882429122925), ('Fantasy', 0.13730569183826447), ('Adventure', 0.11637338995933533), ('Action', 0.03867586329579353), ('Crime', 0.021470140665769577), ('Sci-Fi', 0.02105007879436016), ('Horror', 0.01715858094394207), ('Mystery', 0.014704953879117966), ('Thriller', 0.006428026594221592)], [('Action', 0.9789642691612244), ('Adventure', 0.6525582075119019), ('Sci-Fi', 0.6228770613670349), ('Fantasy', 0.45908284187316895), ('Horror', 0.27416619658470154), ('Thriller', 0.1939232051372528), ('Comedy', 0.08431340754032135), ('Crime', 0.05978129431605339), ('Drama', 0.04977397620677948), ('Mystery', 0.03192245215177536), ('Romance', 0.031856805086135864)], [('Adventure', 0.754733681678772), ('Drama', 0.5061139464378357), ('Action', 0.45474645495414734), ('Fantasy', 0.3458169102668762), ('Comedy', 0.0678914412856102), ('Romance', 0.050833892077207565), ('Horror', 0.03880443423986435), ('Sci-Fi', 0.036152273416519165), ('Mystery', 0.01918560080230236), ('Crime', 0.018488673493266106), ('Thriller', 0.01783163659274578)], [('Action', 0.9771618247032166), ('Sci-Fi', 0.8433400988578796), ('Thriller', 0.5473224520683289), ('Adventure', 0.47729650139808655), ('Drama', 0.40789341926574707), ('Fantasy', 0.17306555807590485), ('Crime', 0.10880837589502335), ('Horror', 0.08334159851074219), ('Mystery', 0.06893352419137955), ('Comedy', 0.06024135649204254), ('Romance', 0.017473075538873672)], [('Comedy', 0.6134667992591858), ('Drama', 0.3215895891189575), ('Fantasy', 0.2914034426212311), ('Romance', 0.13950812816619873), ('Action', 0.13070514798164368), ('Adventure', 0.11217235773801804), ('Mystery', 0.07303338497877121), ('Horror', 0.06478174030780792), ('Crime', 0.056009791791439056), ('Thriller', 0.038510628044605255), ('Sci-Fi', 0.01556483842432499)], [('Crime', 0.9324527382850647), ('Drama', 0.8879194259643555), ('Thriller', 0.6534801125526428), ('Mystery', 0.24052473902702332), ('Action', 0.14666640758514404), ('Comedy', 0.05365942046046257), ('Horror', 0.04516312852501869), ('Romance', 0.03668656945228577), ('Fantasy', 0.02996366284787655), ('Adventure', 0.00843475665897131), ('Sci-Fi', 0.007381486240774393)], [('Comedy', 0.5192078948020935), ('Adventure', 0.3342396020889282), ('Fantasy', 0.29786020517349243), ('Horror', 0.2793706953525543), ('Action', 0.20073145627975464), ('Sci-Fi', 0.07520528137683868), ('Thriller', 0.05120797082781792), ('Drama', 0.047262243926525116), ('Mystery', 0.04294365644454956), ('Romance', 0.034980740398168564), ('Crime', 0.01876617595553398)], [('Drama', 0.9470158815383911), ('Romance', 0.11613915860652924), ('Crime', 0.11602061986923218), ('Mystery', 0.09081648290157318), ('Fantasy', 0.07615325599908829), ('Action', 0.06723908334970474), ('Thriller', 0.06160139665007591), ('Comedy', 0.03967510536313057), ('Adventure', 0.03218086436390877), ('Horror', 0.029439251869916916), ('Sci-Fi', 0.018338315188884735)], [('Sci-Fi', 0.9495818614959717), ('Action', 0.9350446462631226), ('Thriller', 0.5534993410110474), ('Adventure', 0.4751031696796417), ('Drama', 0.3843314051628113), ('Fantasy', 0.17882893979549408), ('Horror', 0.1357039213180542), ('Comedy', 0.08341575413942337), ('Mystery', 0.06304783374071121), ('Romance', 0.03428511321544647), ('Crime', 0.027789872139692307)], [('Action', 0.9086369276046753), ('Adventure', 0.7153769135475159), ('Comedy', 0.4295109212398529), ('Fantasy', 0.30653122067451477), ('Sci-Fi', 0.0775316059589386), ('Drama', 0.07192756235599518), ('Crime', 0.05428213253617287), ('Thriller', 0.03921583294868469), ('Horror', 0.029208358377218246), ('Romance', 0.027499763295054436), ('Mystery', 0.01065702922642231)], [('Action', 0.8742711544036865), ('Thriller', 0.85915207862854), ('Crime', 0.6778853535652161), ('Drama', 0.43984776735305786), ('Mystery', 0.4339715838432312), ('Adventure', 0.18189242482185364), ('Fantasy', 0.12296969443559647), ('Horror', 0.11089630424976349), ('Sci-Fi', 0.07297756522893906), ('Comedy', 0.03173452615737915), ('Romance', 0.013568472117185593)], [('Comedy', 0.9615069627761841), ('Drama', 0.2583619952201843), ('Romance', 0.20018962025642395), ('Crime', 0.13033144176006317), ('Fantasy', 0.08171891421079636), ('Adventure', 0.052411243319511414), ('Action', 0.05098334699869156), ('Mystery', 0.01832917518913746), ('Thriller', 0.015488611534237862), ('Horror', 0.014603691175580025), ('Sci-Fi', 0.008630989119410515)], [('Action', 0.9259511232376099), ('Drama', 0.9062796831130981), ('Crime', 0.8881567120552063), ('Thriller', 0.781187891960144), ('Mystery', 0.18179039657115936), ('Sci-Fi', 0.14791028201580048), ('Adventure', 0.08071102201938629), ('Romance', 0.04626275226473808), ('Comedy', 0.04312532767653465), ('Fantasy', 0.033744607120752335), ('Horror', 0.026054881513118744)], [('Comedy', 0.8227956295013428), ('Drama', 0.7164863348007202), ('Crime', 0.3971764147281647), ('Romance', 0.3793307840824127), ('Thriller', 0.1879795789718628), ('Mystery', 0.07107683271169662), ('Fantasy', 0.023984616622328758), ('Horror', 0.016261693090200424), ('Adventure', 0.008777237497270107), ('Action', 0.007364427205175161), ('Sci-Fi', 0.00627122214064002)], [('Comedy', 0.9709891080856323), ('Drama', 0.7063959240913391), ('Romance', 0.7022677063941956), ('Crime', 0.12374710291624069), ('Adventure', 0.05476042255759239), ('Fantasy', 0.04982453212141991), ('Action', 0.030234621837735176), ('Mystery', 0.016345296055078506), ('Sci-Fi', 0.015341280028223991), ('Thriller', 0.012823796831071377), ('Horror', 0.006805942393839359)], [('Sci-Fi', 0.9368237853050232), ('Action', 0.8983205556869507), ('Adventure', 0.5882634520530701), ('Thriller', 0.46438470482826233), ('Drama', 0.2039777934551239), ('Comedy', 0.13150343298912048), ('Fantasy', 0.11712399870157242), ('Horror', 0.10772335529327393), ('Mystery', 0.042040593922138214), ('Romance', 0.026871364563703537), ('Crime', 0.013034223578870296)], [('Comedy', 0.7943313717842102), ('Action', 0.7853326797485352), ('Adventure', 0.239027202129364), ('Drama', 0.1514766365289688), ('Crime', 0.13205300271511078), ('Fantasy', 0.11341172456741333), ('Sci-Fi', 0.11289171874523163), ('Thriller', 0.07155700773000717), ('Romance', 0.04594903439283371), ('Horror', 0.01534949243068695), ('Mystery', 0.012231903150677681)]]\n"
          ],
          "name": "stdout"
        }
      ]
    },
    {
      "cell_type": "code",
      "metadata": {
        "id": "MOPZCYAplWju",
        "colab_type": "code",
        "outputId": "9d759e6d-a92b-47c8-e9e1-7aaa60002c02",
        "colab": {
          "base_uri": "https://localhost:8080/",
          "height": 34
        }
      },
      "source": [
        "total = len(gpt_gen)\n",
        "scores = {\n",
        "    \"gpt\": [0, 0],\n",
        "    \"bart\" : [0, 0],\n",
        "    \"bi\" : [0, 0],\n",
        "    \"tri\" : [0, 0]\n",
        "          }\n",
        "for i, g in enumerate(df['Genre']):\n",
        "    gg = g.replace(\"<\", \"\").replace(\">\", \"\")\n",
        "    three_gpt = [a[0] for a in gpt_pred[i][:3]]\n",
        "    # print(gg, three_gpt)\n",
        "    # print(gg in three_gpt)\n",
        "    # die()\n",
        "    if gg == three_gpt[0]:\n",
        "        scores['gpt'][0] += 1\n",
        "        scores['gpt'][1] += 1\n",
        "    elif gg in three_gpt:\n",
        "        scores['gpt'][1] += 1\n",
        "\n",
        "    three_bart = [a[0] for a in bard_pred[i][:3]]\n",
        "    if gg == three_bart[0]:\n",
        "        scores['bart'][0] += 1\n",
        "        scores['bart'][1] += 1\n",
        "    elif gg in three_bart:\n",
        "        scores['bart'][1] += 1\n",
        "\n",
        "    three_bi = [a[0] for a in bi_pred[i][:3]]\n",
        "    # print(gg, three_bi)\n",
        "    if gg == three_bi[0]:\n",
        "        scores['bi'][0] += 1\n",
        "        scores['bi'][1] += 1\n",
        "    elif gg in three_bi:\n",
        "        scores['bi'][1] += 1\n",
        "\n",
        "    three_tri = [a[0] for a in tri_pred[i][:3]]\n",
        "    if gg == three_tri[0]:\n",
        "        scores['tri'][0] += 1\n",
        "        scores['tri'][1] += 1\n",
        "    elif gg in three_tri:\n",
        "        scores['tri'][1] += 1\n",
        "\n",
        "scores"
      ],
      "execution_count": 0,
      "outputs": [
        {
          "output_type": "execute_result",
          "data": {
            "text/plain": [
              "{'bart': [4, 32], 'bi': [33, 105], 'gpt': [19, 53], 'tri': [44, 102]}"
            ]
          },
          "metadata": {
            "tags": []
          },
          "execution_count": 19
        }
      ]
    },
    {
      "cell_type": "code",
      "metadata": {
        "id": "3iLSM4uFpXS5",
        "colab_type": "code",
        "outputId": "afe68278-af4c-4fab-856b-a691f2ba29f1",
        "colab": {
          "base_uri": "https://localhost:8080/",
          "height": 85
        }
      },
      "source": [
        "for mod in scores:\n",
        "    scores[mod][0] /= total\n",
        "    scores[mod][1] /= total\n",
        "\n",
        "scores"
      ],
      "execution_count": 0,
      "outputs": [
        {
          "output_type": "execute_result",
          "data": {
            "text/plain": [
              "{'bart': [0.02857142857142857, 0.22857142857142856],\n",
              " 'bi': [0.2357142857142857, 0.75],\n",
              " 'gpt': [0.1357142857142857, 0.37857142857142856],\n",
              " 'tri': [0.3142857142857143, 0.7285714285714285]}"
            ]
          },
          "metadata": {
            "tags": []
          },
          "execution_count": 20
        }
      ]
    },
    {
      "cell_type": "code",
      "metadata": {
        "id": "5N5C2Qe8pjUY",
        "colab_type": "code",
        "colab": {}
      },
      "source": [
        ""
      ],
      "execution_count": 0,
      "outputs": []
    },
    {
      "cell_type": "code",
      "metadata": {
        "id": "wADpodDo3_qH",
        "colab_type": "code",
        "colab": {}
      },
      "source": [
        "# genre, seed_text, gpt_pred, bi_pred, tri_pred\n",
        "gpt_pd = pd.Series([\"<\"+g[0][0]+\">\" for g in gpt_pred])\n",
        "bart_pd = pd.Series('<'+b[])\n",
        "bi_pd = pd.Series(['<'+b[0][0]+'>' for b in bi_pred])\n",
        "tri_pd = pd.Series('<'+t[0][0]+'>' for t in tri_pred)\n",
        "\n",
        "\n",
        "# df = pd.DataFrame(columns = ['Column_name#1', 'Column_name#1'])\n",
        "\n",
        "result_df = pd.DataFrame(columns=['Genre', 'Seed_Text', 'BERT_cls_gpt_gen', 'BERT_cls_2gram', 'BERT_cls_3gram'])\n",
        "result_df['Genre'] = df['Genre']\n",
        "result_df['Seed_Text'] = df['Seed_Text']\n",
        "result_df['BERT_cls_gpt_gen'] = gpt_pd\n",
        "result_df['BERT_cls_2gram'] = bi_pd\n",
        "result_df['BERT_cls_3gram'] = tri_pd"
      ],
      "execution_count": 0,
      "outputs": []
    },
    {
      "cell_type": "code",
      "metadata": {
        "id": "XI2jbnTb6uy6",
        "colab_type": "code",
        "colab": {}
      },
      "source": [
        "result_df.to_csv('data/BERT_eval.csv', index=False)"
      ],
      "execution_count": 0,
      "outputs": []
    },
    {
      "cell_type": "markdown",
      "metadata": {
        "colab_type": "text",
        "id": "zTWQtoZZrnSa"
      },
      "source": [
        "# Prepare scripts\n",
        "\n",
        "1. Read `data/train.csv`\n",
        "2. Remove rare genres\n",
        "3. Create Genre-to-int and int-to-genre mappings\n",
        "4. Split into Train and Val sets\n",
        "\n",
        "*Next* use the train and val data to train sequence classifier"
      ]
    },
    {
      "cell_type": "code",
      "metadata": {
        "colab_type": "code",
        "id": "GbQnCDzq1WqP",
        "colab": {}
      },
      "source": [
        "def getTrainValSplit(min_freq=50, split_train=0.9, data_file='data/train.csv', verbose=True):\n",
        "    \"\"\"\n",
        "    create train-val split from data from `data_file`\n",
        "    \"\"\"\n",
        "    df = pd.read_csv(data_file, delimiter=',')\n",
        "    if verbose: print('all columns:', df.columns)\n",
        "    # drop cols < freq\n",
        "    stats = df.iloc[:, 4:].sum(axis=0) \n",
        "    cols = list(stats[stats < min_freq].index)\n",
        "    for col in cols:\n",
        "        df.drop(col, axis=1, inplace=True)\n",
        "    if verbose: print(\"new genre totals:\\n\", df.iloc[:, 4:].sum())\n",
        "    # drop rows that don't belong to any genres now\n",
        "    onehotlabels = df.iloc[:, 4:]\n",
        "    rows = onehotlabels.sum(axis=1)\n",
        "    if verbose: print('total rows before: ', len(rows))\n",
        "    # remove rows with sum 0 ; no labels\n",
        "    rows = list(rows[rows==0].index)\n",
        "    for row in rows:\n",
        "        df.drop(row, axis=0, inplace=True)\n",
        "    if verbose: print('total rows after: ', len(df))\n",
        "\n",
        "    msk = np.random.rand(len(df)) < split_train\n",
        "    train = df[msk]\n",
        "    val = df[~msk]\n",
        "    if verbose: print('train:', len(train), '; val:', len(val), '; all:', len(df))\n",
        "    split_stats = pd.concat([train.iloc[:, 4:].sum(), val.iloc[:, 4:].sum(), train.iloc[:, 4:].sum()/df.iloc[:, 4:].sum()], axis=1)\n",
        "    if verbose: print(split_stats)\n",
        "\n",
        "    # label->int and int->label mapping\n",
        "    if verbose: print('creating label str<->int mappings')\n",
        "    cols = df.columns\n",
        "    idx = 0\n",
        "    genre_to_int = {}\n",
        "    int_to_genre = {}\n",
        "    for c in cols[4:]:\n",
        "        int_to_genre[idx] = c\n",
        "        genre_to_int[c] = idx\n",
        "        idx += 1\n",
        "    if verbose: print(genre_to_int)\n",
        "    if verbose: print(int_to_genre)\n",
        "\n",
        "    return train, val, genre_to_int, int_to_genre"
      ],
      "execution_count": 0,
      "outputs": []
    },
    {
      "cell_type": "code",
      "metadata": {
        "colab_type": "code",
        "id": "Mrn0uAlJ2etl",
        "outputId": "a36460df-27e5-4f08-ad11-f164e76d28b5",
        "colab": {
          "base_uri": "https://localhost:8080/",
          "height": 351
        }
      },
      "source": [
        "genre_movie_count = {}\n",
        "\n",
        "def prep_data(dframe, tokenizer, max_len=300):\n",
        "    input_ids = []\n",
        "    labels = []\n",
        "    attention_masks = []\n",
        "\n",
        "    shortSkipped = 0\n",
        "\n",
        "    for i in range(len(dframe)):\n",
        "        thisrow = dframe.iloc[i, :]\n",
        "\n",
        "        # check label (if multiple labels, skip)\n",
        "        onehot = thisrow[4:]\n",
        "        print(onehot.values)\n",
        "        die()\n",
        "        if onehot.sum() == 1:\n",
        "            thislabel = onehot[onehot==1]\n",
        "            thislabel = list(thislabel.index)[0]\n",
        "            thislabel = genre_to_int[thislabel]\n",
        "            # print(thislabel)\n",
        "        else: \n",
        "            many = list(onehot[onehot==1].index)\n",
        "            many = '.'.join(many)\n",
        "            thislabel = len(genre_to_int)\n",
        "            genre_to_int[many] = thislabel\n",
        "            int_to_genre[thislabel] = many\n",
        "        # count\n",
        "        if thislabel in genre_movie_count:\n",
        "            genre_movie_count[thislabel] += 1\n",
        "        else:\n",
        "            genre_movie_count[thislabel] = 1\n",
        "        continue\n",
        "\n",
        "        # encode script\n",
        "        script = re.sub('\\s+',' ', str(thisrow.script))\n",
        "        # print('script len', len(script))\n",
        "        # print('split len', len(script.split()))\n",
        "        if len(script) < max_len:\n",
        "            # print('skipping movie:', thisrow.title, 'because short script')\n",
        "            shortSkipped += 1\n",
        "            continue\n",
        "        encoded = tokenizer.encode(script, add_special_tokens=False)\n",
        "        # print('encoded len', len(encoded))\n",
        "        # print(len(script), len(encoded), type(encoded))\n",
        "        chunked = list(chunkset(encoded, max_len-2)) \n",
        "        # script_chunks = list(chunkset(script, max_len))\n",
        "        # print(torch.tensor(chunked[0]))\n",
        "        # print('total chunks', len(chunked))\n",
        "        for chunk in chunked:\n",
        "            encoded_dict = tokenizer.encode_plus(\n",
        "                            chunk,             # Sentence to encode.\n",
        "                            add_special_tokens = True, # Add '[CLS]' and '[SEP]'\n",
        "                            max_length = max_len,    # Pad & truncate all sentences.\n",
        "                            pad_to_max_length = True,\n",
        "                            return_attention_mask = True, # Construct attn. masks.\n",
        "                            return_tensors = 'pt',     # Return pytorch tensors.\n",
        "                            # truncation_strategy = 'do_not_truncate'\n",
        "                    )\n",
        "            input_ids.append(encoded_dict['input_ids'])\n",
        "            # print(ids.shape)\n",
        "            # print(ids)\n",
        "            attention_masks.append(encoded_dict['attention_mask'])\n",
        "            # print(msks.shape)\n",
        "            # print(msks)\n",
        "            labels.append(thislabel)\n",
        "    for genre in genre_movie_count:\n",
        "        print(int_to_genre[genre], genre_movie_count[genre])    \n",
        "    \n",
        "    return None, None, None\n",
        "    print('movies skipped', shortSkipped + multiGenreSkipped)\n",
        "    print('short scripts', shortSkipped)\n",
        "    print('scripts with multiple genres', multiGenreSkipped)\n",
        "    return input_ids, attention_masks, labels\n",
        "\n",
        "# Load the BERT tokenizer.\n",
        "print('Loading BERT tokenizer...')\n",
        "tokenizer = BertTokenizer.from_pretrained('bert-base-cased', do_lower_case=False)\n",
        "\n",
        "train_ids, train_attention_masks, train_labels = prep_data(df, tokenizer, max_len=64)"
      ],
      "execution_count": 0,
      "outputs": [
        {
          "output_type": "stream",
          "text": [
            "Loading BERT tokenizer...\n",
            "[0 0 1 0 0 0 0 0 1 0 0]\n"
          ],
          "name": "stdout"
        },
        {
          "output_type": "error",
          "ename": "NameError",
          "evalue": "ignored",
          "traceback": [
            "\u001b[0;31m---------------------------------------------------------------------------\u001b[0m",
            "\u001b[0;31mNameError\u001b[0m                                 Traceback (most recent call last)",
            "\u001b[0;32m<ipython-input-33-fa213801f00c>\u001b[0m in \u001b[0;36m<module>\u001b[0;34m()\u001b[0m\n\u001b[1;32m     81\u001b[0m \u001b[0mtokenizer\u001b[0m \u001b[0;34m=\u001b[0m \u001b[0mBertTokenizer\u001b[0m\u001b[0;34m.\u001b[0m\u001b[0mfrom_pretrained\u001b[0m\u001b[0;34m(\u001b[0m\u001b[0;34m'bert-base-cased'\u001b[0m\u001b[0;34m,\u001b[0m \u001b[0mdo_lower_case\u001b[0m\u001b[0;34m=\u001b[0m\u001b[0;32mFalse\u001b[0m\u001b[0;34m)\u001b[0m\u001b[0;34m\u001b[0m\u001b[0;34m\u001b[0m\u001b[0m\n\u001b[1;32m     82\u001b[0m \u001b[0;34m\u001b[0m\u001b[0m\n\u001b[0;32m---> 83\u001b[0;31m \u001b[0mtrain_ids\u001b[0m\u001b[0;34m,\u001b[0m \u001b[0mtrain_attention_masks\u001b[0m\u001b[0;34m,\u001b[0m \u001b[0mtrain_labels\u001b[0m \u001b[0;34m=\u001b[0m \u001b[0mprep_data\u001b[0m\u001b[0;34m(\u001b[0m\u001b[0mdf\u001b[0m\u001b[0;34m,\u001b[0m \u001b[0mtokenizer\u001b[0m\u001b[0;34m,\u001b[0m \u001b[0mmax_len\u001b[0m\u001b[0;34m=\u001b[0m\u001b[0;36m64\u001b[0m\u001b[0;34m)\u001b[0m\u001b[0;34m\u001b[0m\u001b[0;34m\u001b[0m\u001b[0m\n\u001b[0m",
            "\u001b[0;32m<ipython-input-33-fa213801f00c>\u001b[0m in \u001b[0;36mprep_data\u001b[0;34m(dframe, tokenizer, max_len)\u001b[0m\n\u001b[1;32m     17\u001b[0m         \u001b[0monehot\u001b[0m \u001b[0;34m=\u001b[0m \u001b[0mthisrow\u001b[0m\u001b[0;34m[\u001b[0m\u001b[0;36m4\u001b[0m\u001b[0;34m:\u001b[0m\u001b[0;34m]\u001b[0m\u001b[0;34m\u001b[0m\u001b[0;34m\u001b[0m\u001b[0m\n\u001b[1;32m     18\u001b[0m         \u001b[0mprint\u001b[0m\u001b[0;34m(\u001b[0m\u001b[0monehot\u001b[0m\u001b[0;34m.\u001b[0m\u001b[0mvalues\u001b[0m\u001b[0;34m)\u001b[0m\u001b[0;34m\u001b[0m\u001b[0;34m\u001b[0m\u001b[0m\n\u001b[0;32m---> 19\u001b[0;31m         \u001b[0mdie\u001b[0m\u001b[0;34m(\u001b[0m\u001b[0;34m)\u001b[0m\u001b[0;34m\u001b[0m\u001b[0;34m\u001b[0m\u001b[0m\n\u001b[0m\u001b[1;32m     20\u001b[0m         \u001b[0;32mif\u001b[0m \u001b[0monehot\u001b[0m\u001b[0;34m.\u001b[0m\u001b[0msum\u001b[0m\u001b[0;34m(\u001b[0m\u001b[0;34m)\u001b[0m \u001b[0;34m==\u001b[0m \u001b[0;36m1\u001b[0m\u001b[0;34m:\u001b[0m\u001b[0;34m\u001b[0m\u001b[0;34m\u001b[0m\u001b[0m\n\u001b[1;32m     21\u001b[0m             \u001b[0mthislabel\u001b[0m \u001b[0;34m=\u001b[0m \u001b[0monehot\u001b[0m\u001b[0;34m[\u001b[0m\u001b[0monehot\u001b[0m\u001b[0;34m==\u001b[0m\u001b[0;36m1\u001b[0m\u001b[0;34m]\u001b[0m\u001b[0;34m\u001b[0m\u001b[0;34m\u001b[0m\u001b[0m\n",
            "\u001b[0;31mNameError\u001b[0m: name 'die' is not defined"
          ]
        }
      ]
    },
    {
      "cell_type": "code",
      "metadata": {
        "colab_type": "code",
        "id": "aOY3EcXcE-2k",
        "colab": {}
      },
      "source": [
        ""
      ],
      "execution_count": 0,
      "outputs": []
    },
    {
      "cell_type": "markdown",
      "metadata": {
        "colab_type": "text",
        "id": "hLSJ1n6yNokq"
      },
      "source": [
        "# Prep data for fast-BERT\n",
        "\n",
        "Reduce classification problem (to be used with fast-BERT)\n",
        "\n",
        "> Create new chunked data (as specified by `max_len`)\n",
        "\n",
        "> Convert save chunked data into `data/fast_train.csv` and \n",
        "`data/fast_val.csv`\n",
        "\n",
        "**NOTE**: might have to do the same for test data (held out)\n",
        "\n",
        "**Shuffle?** data is in alphabetical order (hopefully fast-bert takes care of \n",
        "choosing batches randomly instead of just indexing through csv)"
      ]
    },
    {
      "cell_type": "code",
      "metadata": {
        "colab_type": "code",
        "id": "XBLXrdWyEQ_L",
        "outputId": "41d639ce-83fe-416a-c959-265ad6a735b2",
        "colab": {
          "base_uri": "https://localhost:8080/",
          "height": 54
        }
      },
      "source": [
        "# for fast_labels.csv\n",
        "label_col = []\n",
        "with open('data/fast_labels.csv', 'w') as f:\n",
        "    for i in range(len(int_to_genre)):\n",
        "        label_col.append(int_to_genre[i])\n",
        "        f.write(int_to_genre[i] + '\\n')\n",
        "print(label_col)"
      ],
      "execution_count": 0,
      "outputs": [
        {
          "output_type": "stream",
          "text": [
            "['Action', 'Adventure', 'Comedy', 'Crime', 'Drama', 'Fantasy', 'Horror', 'Mystery', 'Romance', 'Sci-Fi', 'Thriller']\n"
          ],
          "name": "stdout"
        }
      ]
    },
    {
      "cell_type": "code",
      "metadata": {
        "colab_type": "code",
        "id": "IOL6VyQyc5o4",
        "colab": {}
      },
      "source": [
        "# \n",
        "def chunkDataframe(dframe, max_len=300):\n",
        "    new_frame = pd.DataFrame().reindex_like(train)\n",
        "    new_frame.drop(new_frame.index, axis=0, inplace=True)\n",
        "    for i in range(0, len(dframe)):\n",
        "        if i % 20 == 0: print('processing', i, 'of', len(dframe),' -- title:', dframe.iloc[i].title)\n",
        "        thisrow = dframe.iloc[i]\n",
        "        chunked_script = chunkScript(thisrow.script, max_len=max_len)\n",
        "        thisrow.at['script'] = ''\n",
        "        for c in chunked_script:\n",
        "            thisrow.at['script'] = c\n",
        "            new_frame = new_frame.append(thisrow, ignore_index=True)\n",
        "    return new_frame"
      ],
      "execution_count": 0,
      "outputs": []
    },
    {
      "cell_type": "code",
      "metadata": {
        "colab_type": "code",
        "id": "EvflrhuPyLGp",
        "colab": {}
      },
      "source": [
        "# FINAL STEP (execute only once / or to generate of with different max_len)\n",
        "new_val = chunkDataframe(val, max_len=512)\n",
        "new_val.to_csv('data/fast_val_512.csv')\n",
        "print('chunked val:', len(new_val), '; original_val', len(val))\n",
        "\n",
        "new_train = chunkDataframe(train, max_len=512)\n",
        "new_train.to_csv('data/fast_train_512.csv')\n",
        "print('chunked train (smaller rows):', len(new_train), '; original_train:', len(train))\n",
        "\n",
        "print(\"---------- saved train and test CSV ------------\")"
      ],
      "execution_count": 0,
      "outputs": []
    },
    {
      "cell_type": "code",
      "metadata": {
        "colab_type": "code",
        "id": "S5vHvwu_HXtw",
        "colab": {}
      },
      "source": [
        "# # fast_train.csv\n",
        "# new_train.to_csv('data/fast_train.csv')\n",
        "# # fast_val.csv\n",
        "# new_val.to_csv('data/fast_val.csv')\n",
        "# text_col = 'script'"
      ],
      "execution_count": 0,
      "outputs": []
    },
    {
      "cell_type": "markdown",
      "metadata": {
        "colab_type": "text",
        "id": "nhwpnFyxIaNA"
      },
      "source": [
        "# Data preprocessing"
      ]
    },
    {
      "cell_type": "markdown",
      "metadata": {
        "colab_type": "text",
        "id": "ls795YS6U7eI"
      },
      "source": [
        "### Syntok (tokenwise preprocessing)\n",
        "\n",
        "https://github.com/fnl/syntok\n",
        "\n",
        "To insert [SEP] tokens at the end of sentences in movie scripts"
      ]
    },
    {
      "cell_type": "code",
      "metadata": {
        "colab_type": "code",
        "id": "ecNf4j9_Q6UV",
        "outputId": "b92c1b99-99fb-44d7-b7f2-086773482009",
        "colab": {
          "base_uri": "https://localhost:8080/"
        }
      },
      "source": [
        "!pip install syntok"
      ],
      "execution_count": 0,
      "outputs": [
        {
          "output_type": "stream",
          "text": [
            "Collecting syntok\n",
            "  Downloading https://files.pythonhosted.org/packages/ff/36/5b423791cd877a21c2771a2b070194270f163f2969066923f89aa3099e2d/syntok-1.2.2.tar.gz\n",
            "Requirement already satisfied: regex in /usr/local/lib/python3.6/dist-packages (from syntok) (2019.12.20)\n",
            "Building wheels for collected packages: syntok\n",
            "  Building wheel for syntok (setup.py) ... \u001b[?25l\u001b[?25hdone\n",
            "  Created wheel for syntok: filename=syntok-1.2.2-cp36-none-any.whl size=20724 sha256=a34abe1879706677a7a1b2822b418540d273a9e368d484c633dcae243068ecec\n",
            "  Stored in directory: /root/.cache/pip/wheels/b4/b0/d2/ffdbbc1a16cb37e580fb7b3a6fbaaf09c7f7c163981db385b3\n",
            "Successfully built syntok\n",
            "Installing collected packages: syntok\n",
            "Successfully installed syntok-1.2.2\n"
          ],
          "name": "stdout"
        }
      ]
    },
    {
      "cell_type": "code",
      "metadata": {
        "colab_type": "code",
        "id": "HApO4EPYXmHp",
        "colab": {}
      },
      "source": [
        "import syntok.segmenter as segmenter"
      ],
      "execution_count": 0,
      "outputs": []
    },
    {
      "cell_type": "code",
      "metadata": {
        "colab_type": "code",
        "id": "YN2KMEA2Q5zR",
        "colab": {}
      },
      "source": [
        "def chunkset(string, length):\n",
        "    return (string[0+i:length+i] for i in range(0, len(string), length))\n",
        "\n",
        "def __extractValueFromToken__(tokenLst):\n",
        "    return [t.value for t in tokenLst]\n",
        "\n",
        "def chunkScript(movie, max_len=300):\n",
        "    \"\"\"\n",
        "    add `[SEP]` token at the end of each sentence in script\n",
        "    \"\"\"\n",
        "    outscript = ['']\n",
        "    # movie = re.sub('\\s+',' ', movie)\n",
        "    prev_len = 0\n",
        "    try:\n",
        "        segmentation = list(segmenter.process(movie))\n",
        "\n",
        "        for paragraph in segmentation:\n",
        "            for s in paragraph:\n",
        "                sent = ' '.join([t.value for t in s]) + ' [SEP]'\n",
        "                if (prev_len + len(s) < max_len-2):\n",
        "                    outscript[-1] += sent\n",
        "                    prev_len += len(s)\n",
        "                elif (len(s) < max_len-2):\n",
        "                    outscript.append(sent)\n",
        "                    prev_len = len(s)\n",
        "                else: \n",
        "                    # new sentence is longer than max_len\n",
        "                    # print(len(outscript))\n",
        "                    outscript += [' '.join(__extractValueFromToken__(s2)) for s2 in chunkset(s, max_len - 1)]\n",
        "                    # print(len(outscript))\n",
        "                    prev_len = len(outscript[-1])\n",
        "    except:\n",
        "        print(\"segmentatin error for movie:\", movie)\n",
        "        return []\n",
        "            \n",
        "    return outscript\n",
        "# out = chunkScript(train.iloc[0].script, max_len=128)\n",
        "# len(out)\n",
        "# print(out[-1])"
      ],
      "execution_count": 0,
      "outputs": []
    },
    {
      "cell_type": "markdown",
      "metadata": {
        "colab_type": "text",
        "id": "djazDrJIVAnk"
      },
      "source": [
        "## Data Prep"
      ]
    },
    {
      "cell_type": "markdown",
      "metadata": {
        "id": "6M8gxmdpu1Rq",
        "colab_type": "text"
      },
      "source": [
        "# New Section"
      ]
    }
  ]
}